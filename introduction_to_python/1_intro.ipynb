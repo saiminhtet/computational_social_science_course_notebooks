{
 "cells": [
  {
   "cell_type": "markdown",
   "metadata": {},
   "source": [
    "# Introduction to Python\n",
    "\n",
    "John McLevey   \n",
    "January 2018 \n",
    "\n",
    "This notebook is part of the course materials for my \"[Big Data and Social Science Research](http://www.johnmclevey.com/475)\" course at the University of Waterloo. \n",
    "\n",
    "By the end of this class, you should be able to (1) assign things to variables, (2) execute code conditionally, and (3) explain what a function is, use built-in functions, and understand when, why, and how you might want to write your functions.\n",
    "\n",
    "## Readings\n",
    "\n",
    "- Chapter 1 \"Why should you learn to write programs?\" from [Python for Everyone](https://www.py4e.com/html3/)\n",
    "- Chapter 2 \"Variables, expressions, and statements\" from [Python for Everyone](https://www.py4e.com/html3/)\n",
    "- Chapter 3 \"Conditional execution\" from [Python for Everyone](https://www.py4e.com/html3/)\n",
    "- Chapter 4 \"Functions\" from [Python for Everyone](https://www.py4e.com/html3/)\n",
    "- **Supplementary / Optional**: Watch and follow along with Jessica McKellar's \"[A Hands-On Introduction to Python for Beginning Programmers](https://www.youtube.com/watch?v=rkx5_MRAV3A).\" If you have no previous Python background, I recommend watching and following along with McKellar's tutorial before coming to class.\n",
    "- **Supplementary / Optional**: Watch Brian Granger, Chris Colbert, and Ian Rose's 2017 talk \"[JupyterLab: The Evolution of the Jupyter Notebook](https://www.youtube.com/watch?v=w7jq4XgwLJQ)\" to get a sense of what you can do with Jupyter Lab."
   ]
  },
  {
   "cell_type": "markdown",
   "metadata": {},
   "source": [
    "## Some key takeaways from the readings\n",
    "\n",
    "* Computers are best at the kind of things humans find boring and mind-numbing. When you learn how to speak to the computer, you can delegate those boring tasks and focus on the things that you are unique suited for (as a human...) \n",
    "* Your Python scripts (and scripts in other languages) are just sets of instructions for your computer to follow. Your computer will not understand your instructions if there are errors -- however small -- in your instructions. Remember, your computer is *not* smart. It is not intelligent at all. You must be *very precise* when you communicate with it.\n",
    "* According to Severance, you need two skills to be a programmer. As he puts it: \n",
    "    1. 'First, you need to know the programming language (Python) - you need to know the vocabulary and the grammar. You need to be able to spell the words in this new language properly and know how to construct well-formed “sentences” in this new language.'\n",
    "    2. 'Second, you need to “tell a story”. In writing a story, you combine words and sentences to convey an idea to the reader. There is a skill and art in constructing the story, and skill in story writing is improved by doing some writing and getting some feedback. In programming, our program is the “story” and the problem you are trying to solve is the “idea”.'\n",
    "\n",
    "> You will learn the “vocabulary” and “sentences” of Python pretty quickly. It will take longer for you to be able to write a coherent program to solve a brand-new problem. We teach programming much like we teach writing. We start reading and explaining programs, then we write simple programs, and then we write in- creasingly complex programs over time. At some point you “get your muse” and see the patterns on your own and can see more naturally how to take a problem and write a program that solves that problem. And once you get to that point, programming becomes a very pleasant and creative process. (Severance)\n",
    "\n",
    "* Some words in Python are \"reserved.\" What are they? (Hint: remember the dog analogy)\n",
    "* \"Low-level conceptual patterns\" used to construct programs:\n",
    "    * **input**: Get data from the “outside world”. This might be reading data from a file, or even some kind of sensor like a microphone or GPS. In our initial programs, our input will come from the user typing data on the keyboard.\n",
    "    * **output**: Display the results of the program on a screen or store them in a file or perhaps write them to a device like a speaker to play music or speak text.\n",
    "    * **Sequential execution**: Perform statements one after another in the order they are encountered in the script.\n",
    "    * **Sequential execution**:  Perform statements one after another in the order they are encountered in the script.\n",
    "    * **Conditional execution**: Check for certain conditions and then execute or skip a sequence of statements.\n",
    "    * **Repeated execution**: Perform some set of statements repeatedly, usually with some variation.\n",
    "    * **Reuse**: Write a set of instructions once and give them a name and then reuse those instructions as needed throughout your program.\n",
    "    \n",
    "> It sounds almost too simple to be true, and of course it is never so simple. It is like saying that walking is simply “putting one foot in front of the other”. The “art” of writing a program is composing and weaving these basic elements together many times over to produce something that is useful to its users. (Severance)\n",
    "\n",
    "* It takes a while to learn and understand a new language. It might take a bit of time before this feels natural. \n",
    "\n",
    "Severance constrasts 3 different types of errors you are likely to encounter:\n",
    "\n",
    "1. **Syntax errors** 'These are the first errors you will make and the easiest to fix. A syntax error means that you have violated the “grammar” rules of Python. Python does its best to point right at the line and character where it noticed it was confused. The only tricky bit of syntax errors is that sometimes the mistake that needs fixing is actually earlier in the program than where Python noticed it was confused. So the line and character that Python indicates in a syntax error may just be a starting point for your investigation.'\n",
    "2. **Logic errors** 'A logic error is when your program has good syntax but there is a mistake in the order of the statements or perhaps a mistake in how the statements relate to one another. A good example of a logic error might be, “take a drink from your water bottle, put it in your backpack, walk to the library, and then put the top back on the bottle.”'\n",
    "3. **Semantic errors** 'A semantic error is when your description of the steps to take is syntactically perfect and in the right order, but there is simply a mistake in the program. The program is perfectly correct but it does not do what you intended for it to do. A simple example would be if you were giving a person directions to a restaurant and said, “. . . when you reach the intersection with the gas station, turn left and go one mile and the restaurant is a red building on your left.” Your friend is very late and calls you to tell you that they are on a farm and walking around behind a barn, with no sign of a restaurant. Then you say “did you turn left or right at the gas station?” and they say, “I followed your directions perfectly, I have them written down, it says turn left and go one mile at the gas station.” Then you say, “I am very sorry, because while my instructions were syntactically correct, they sadly contained a small but undetected semantic error.”.'"
   ]
  },
  {
   "cell_type": "markdown",
   "metadata": {},
   "source": [
    "Some terrific advice from Severance:\n",
    "\n",
    "> If something seems particularly hard, there is usually no value in staying up all night and staring at it. Take a break, take a nap, have a snack, explain what you are having a problem with to someone (or perhaps your dog), and then come back to it with fresh eyes. I assure you that once you learn the programming concepts in the book you will look back and see that it was all really easy and elegant and it simply took you a bit of time to absorb it."
   ]
  },
  {
   "cell_type": "markdown",
   "metadata": {},
   "source": [
    "# The Zen of Python"
   ]
  },
  {
   "cell_type": "code",
   "execution_count": 3,
   "metadata": {},
   "outputs": [
    {
     "name": "stdout",
     "output_type": "stream",
     "text": [
      "The Zen of Python, by Tim Peters\n",
      "\n",
      "Beautiful is better than ugly.\n",
      "Explicit is better than implicit.\n",
      "Simple is better than complex.\n",
      "Complex is better than complicated.\n",
      "Flat is better than nested.\n",
      "Sparse is better than dense.\n",
      "Readability counts.\n",
      "Special cases aren't special enough to break the rules.\n",
      "Although practicality beats purity.\n",
      "Errors should never pass silently.\n",
      "Unless explicitly silenced.\n",
      "In the face of ambiguity, refuse the temptation to guess.\n",
      "There should be one-- and preferably only one --obvious way to do it.\n",
      "Although that way may not be obvious at first unless you're Dutch.\n",
      "Now is better than never.\n",
      "Although never is often better than *right* now.\n",
      "If the implementation is hard to explain, it's a bad idea.\n",
      "If the implementation is easy to explain, it may be a good idea.\n",
      "Namespaces are one honking great idea -- let's do more of those!\n"
     ]
    }
   ],
   "source": [
    "import this"
   ]
  },
  {
   "cell_type": "markdown",
   "metadata": {},
   "source": [
    "# Getting started"
   ]
  },
  {
   "cell_type": "code",
   "execution_count": 1,
   "metadata": {},
   "outputs": [
    {
     "name": "stdout",
     "output_type": "stream",
     "text": [
      "Hello World!\n"
     ]
    }
   ],
   "source": [
    "print('Hello World!')"
   ]
  },
  {
   "cell_type": "markdown",
   "metadata": {},
   "source": [
    "Try using the print function yourself. What happens if you omit the quotes, or have a set of quotes inside those quotes? What happens if you try to start a new line?"
   ]
  },
  {
   "cell_type": "markdown",
   "metadata": {},
   "source": [
    "# Chapter: variables, expressions, and statements"
   ]
  },
  {
   "cell_type": "code",
   "execution_count": 1,
   "metadata": {},
   "outputs": [
    {
     "data": {
      "text/plain": [
       "int"
      ]
     },
     "execution_count": 1,
     "metadata": {},
     "output_type": "execute_result"
    }
   ],
   "source": [
    "type(4)"
   ]
  },
  {
   "cell_type": "code",
   "execution_count": 2,
   "metadata": {},
   "outputs": [
    {
     "data": {
      "text/plain": [
       "str"
      ]
     },
     "execution_count": 2,
     "metadata": {},
     "output_type": "execute_result"
    }
   ],
   "source": [
    "type('Hello there!')"
   ]
  },
  {
   "cell_type": "code",
   "execution_count": 3,
   "metadata": {},
   "outputs": [
    {
     "data": {
      "text/plain": [
       "float"
      ]
     },
     "execution_count": 3,
     "metadata": {},
     "output_type": "execute_result"
    }
   ],
   "source": [
    "type(7.5)"
   ]
  },
  {
   "cell_type": "code",
   "execution_count": 4,
   "metadata": {},
   "outputs": [
    {
     "data": {
      "text/plain": [
       "str"
      ]
     },
     "execution_count": 4,
     "metadata": {},
     "output_type": "execute_result"
    }
   ],
   "source": [
    "type('7.5')"
   ]
  },
  {
   "cell_type": "code",
   "execution_count": 80,
   "metadata": {},
   "outputs": [
    {
     "data": {
      "text/plain": [
       "str"
      ]
     },
     "execution_count": 80,
     "metadata": {},
     "output_type": "execute_result"
    }
   ],
   "source": [
    "type(str(7.5))"
   ]
  },
  {
   "cell_type": "code",
   "execution_count": 5,
   "metadata": {},
   "outputs": [],
   "source": [
    "fav_num = 7"
   ]
  },
  {
   "cell_type": "code",
   "execution_count": 6,
   "metadata": {},
   "outputs": [
    {
     "name": "stdout",
     "output_type": "stream",
     "text": [
      "7\n"
     ]
    }
   ],
   "source": [
    "print(fav_num)"
   ]
  },
  {
   "cell_type": "code",
   "execution_count": 7,
   "metadata": {},
   "outputs": [
    {
     "data": {
      "text/plain": [
       "int"
      ]
     },
     "execution_count": 7,
     "metadata": {},
     "output_type": "execute_result"
    }
   ],
   "source": [
    "type(fav_num)"
   ]
  },
  {
   "cell_type": "code",
   "execution_count": 8,
   "metadata": {},
   "outputs": [],
   "source": [
    "message = 'Today, we are starting to learn about Python...'"
   ]
  },
  {
   "cell_type": "code",
   "execution_count": 10,
   "metadata": {},
   "outputs": [
    {
     "name": "stdout",
     "output_type": "stream",
     "text": [
      "Today, we are starting to learn about Python...\n"
     ]
    }
   ],
   "source": [
    "print(message) "
   ]
  },
  {
   "cell_type": "code",
   "execution_count": 11,
   "metadata": {},
   "outputs": [
    {
     "name": "stdout",
     "output_type": "stream",
     "text": [
      "Today, we are starting to learn about Python... How exciting is that?!\n"
     ]
    }
   ],
   "source": [
    "print(message + ' How exciting is that?!')"
   ]
  },
  {
   "cell_type": "code",
   "execution_count": 12,
   "metadata": {},
   "outputs": [
    {
     "ename": "SyntaxError",
     "evalue": "invalid syntax (<ipython-input-12-822e33d923a9>, line 1)",
     "output_type": "error",
     "traceback": [
      "\u001b[0;36m  File \u001b[0;32m\"<ipython-input-12-822e33d923a9>\"\u001b[0;36m, line \u001b[0;32m1\u001b[0m\n\u001b[0;31m    class = \"Big Data and Social Science\"\u001b[0m\n\u001b[0m          ^\u001b[0m\n\u001b[0;31mSyntaxError\u001b[0m\u001b[0;31m:\u001b[0m invalid syntax\n"
     ]
    }
   ],
   "source": [
    "class = \"Big Data and Social Science\""
   ]
  },
  {
   "cell_type": "markdown",
   "metadata": {},
   "source": [
    "^ Class is a protected keyword in Python! We can't use it to name variables. "
   ]
  },
  {
   "cell_type": "code",
   "execution_count": 13,
   "metadata": {},
   "outputs": [
    {
     "data": {
      "text/plain": [
       "15"
      ]
     },
     "execution_count": 13,
     "metadata": {},
     "output_type": "execute_result"
    }
   ],
   "source": [
    "5 + 10"
   ]
  },
  {
   "cell_type": "code",
   "execution_count": 14,
   "metadata": {},
   "outputs": [
    {
     "data": {
      "text/plain": [
       "15.1"
      ]
     },
     "execution_count": 14,
     "metadata": {},
     "output_type": "execute_result"
    }
   ],
   "source": [
    "5.1 + 10"
   ]
  },
  {
   "cell_type": "code",
   "execution_count": 15,
   "metadata": {},
   "outputs": [
    {
     "ename": "TypeError",
     "evalue": "unsupported operand type(s) for +: 'int' and 'str'",
     "output_type": "error",
     "traceback": [
      "\u001b[0;31m---------------------------------------------------------------------------\u001b[0m",
      "\u001b[0;31mTypeError\u001b[0m                                 Traceback (most recent call last)",
      "\u001b[0;32m<ipython-input-15-f3a7392ca8e1>\u001b[0m in \u001b[0;36m<module>\u001b[0;34m()\u001b[0m\n\u001b[0;32m----> 1\u001b[0;31m \u001b[0;36m10\u001b[0m \u001b[0;34m+\u001b[0m \u001b[0;34m'Dwight'\u001b[0m\u001b[0;34m\u001b[0m\u001b[0m\n\u001b[0m",
      "\u001b[0;31mTypeError\u001b[0m: unsupported operand type(s) for +: 'int' and 'str'"
     ]
    }
   ],
   "source": [
    "10 + 'Dwight'"
   ]
  },
  {
   "cell_type": "markdown",
   "metadata": {},
   "source": [
    "The previous cell threw an error because we tried to add a number and a string. That's not possible. But we are not limited to operations on numbers. Here are some examples of string operations."
   ]
  },
  {
   "cell_type": "code",
   "execution_count": 16,
   "metadata": {},
   "outputs": [
    {
     "data": {
      "text/plain": [
       "'DwightAngela'"
      ]
     },
     "execution_count": 16,
     "metadata": {},
     "output_type": "execute_result"
    }
   ],
   "source": [
    "'Dwight' + 'Angela'"
   ]
  },
  {
   "cell_type": "code",
   "execution_count": 18,
   "metadata": {},
   "outputs": [
    {
     "data": {
      "text/plain": [
       "'Dwight and Angela'"
      ]
     },
     "execution_count": 18,
     "metadata": {},
     "output_type": "execute_result"
    }
   ],
   "source": [
    "'Dwight and ' + 'Angela'"
   ]
  },
  {
   "cell_type": "code",
   "execution_count": 22,
   "metadata": {},
   "outputs": [
    {
     "data": {
      "text/plain": [
       "'Oscar and Gil'"
      ]
     },
     "execution_count": 22,
     "metadata": {},
     "output_type": "execute_result"
    }
   ],
   "source": [
    "person_a = 'Oscar'\n",
    "person_b = 'Gil'\n",
    "\n",
    "person_a + ' and ' + person_b"
   ]
  },
  {
   "cell_type": "code",
   "execution_count": 25,
   "metadata": {},
   "outputs": [
    {
     "name": "stdout",
     "output_type": "stream",
     "text": [
      "{} thinks {} wants to break up with {}\n"
     ]
    }
   ],
   "source": [
    "print(\"{} thinks {} wants to break up with {}\")"
   ]
  },
  {
   "cell_type": "code",
   "execution_count": 27,
   "metadata": {},
   "outputs": [],
   "source": [
    "statement = \"{} thinks {} wants to break up with {}.\""
   ]
  },
  {
   "cell_type": "code",
   "execution_count": 29,
   "metadata": {},
   "outputs": [
    {
     "name": "stdout",
     "output_type": "stream",
     "text": [
      "Oscar thinks he wants to break up with Gil.\n"
     ]
    }
   ],
   "source": [
    "print(statement.format(\"Oscar\", \"he\", \"Gil\"))"
   ]
  },
  {
   "cell_type": "code",
   "execution_count": 40,
   "metadata": {},
   "outputs": [],
   "source": [
    "name = input(\"What is your name?\")"
   ]
  },
  {
   "cell_type": "code",
   "execution_count": 41,
   "metadata": {},
   "outputs": [
    {
     "name": "stdout",
     "output_type": "stream",
     "text": [
      "Your name is John.\n"
     ]
    }
   ],
   "source": [
    "print('Your name is ' + name + '.')"
   ]
  },
  {
   "cell_type": "markdown",
   "metadata": {},
   "source": [
    "You can comment out code that you do not want to run... "
   ]
  },
  {
   "cell_type": "code",
   "execution_count": 42,
   "metadata": {},
   "outputs": [],
   "source": [
    "# print('Your name is ' + name + '.')"
   ]
  },
  {
   "cell_type": "code",
   "execution_count": 43,
   "metadata": {},
   "outputs": [
    {
     "name": "stdout",
     "output_type": "stream",
     "text": [
      "Your name is John.\n"
     ]
    }
   ],
   "source": [
    "print('Your name is ' + name + '.') # it can be on the same line as executable code, but if you want the code to run, the comment has to come after the code. "
   ]
  },
  {
   "cell_type": "markdown",
   "metadata": {},
   "source": [
    "Severance provides good advice: reduce the need for a lot of comments by naming variables well. "
   ]
  },
  {
   "cell_type": "code",
   "execution_count": 44,
   "metadata": {},
   "outputs": [],
   "source": [
    "words = ['these', 'are', 'some', 'words', 'about', 'nothing.']"
   ]
  },
  {
   "cell_type": "code",
   "execution_count": 45,
   "metadata": {},
   "outputs": [
    {
     "name": "stdout",
     "output_type": "stream",
     "text": [
      "these\n",
      "are\n",
      "some\n",
      "words\n",
      "about\n",
      "nothing.\n"
     ]
    }
   ],
   "source": [
    "for word in words:\n",
    "    print(word)"
   ]
  },
  {
   "cell_type": "markdown",
   "metadata": {},
   "source": [
    "We will talk about loops later. But take a look at the code above and tell me what's going on?"
   ]
  },
  {
   "cell_type": "markdown",
   "metadata": {},
   "source": [
    "# Conditional Execution"
   ]
  },
  {
   "cell_type": "code",
   "execution_count": 46,
   "metadata": {},
   "outputs": [
    {
     "data": {
      "text/plain": [
       "True"
      ]
     },
     "execution_count": 46,
     "metadata": {},
     "output_type": "execute_result"
    }
   ],
   "source": [
    "5 == 5"
   ]
  },
  {
   "cell_type": "code",
   "execution_count": 47,
   "metadata": {},
   "outputs": [
    {
     "data": {
      "text/plain": [
       "False"
      ]
     },
     "execution_count": 47,
     "metadata": {},
     "output_type": "execute_result"
    }
   ],
   "source": [
    "5 == 6"
   ]
  },
  {
   "cell_type": "code",
   "execution_count": 48,
   "metadata": {},
   "outputs": [
    {
     "data": {
      "text/plain": [
       "True"
      ]
     },
     "execution_count": 48,
     "metadata": {},
     "output_type": "execute_result"
    }
   ],
   "source": [
    "'Jan' == 'Jan'"
   ]
  },
  {
   "cell_type": "code",
   "execution_count": 49,
   "metadata": {},
   "outputs": [
    {
     "data": {
      "text/plain": [
       "False"
      ]
     },
     "execution_count": 49,
     "metadata": {},
     "output_type": "execute_result"
    }
   ],
   "source": [
    "'Jan' == 'Pam'"
   ]
  },
  {
   "cell_type": "code",
   "execution_count": 50,
   "metadata": {},
   "outputs": [
    {
     "data": {
      "text/plain": [
       "False"
      ]
     },
     "execution_count": 50,
     "metadata": {},
     "output_type": "execute_result"
    }
   ],
   "source": [
    "'Angela' == 'Andy'"
   ]
  },
  {
   "cell_type": "code",
   "execution_count": 52,
   "metadata": {},
   "outputs": [
    {
     "data": {
      "text/plain": [
       "False"
      ]
     },
     "execution_count": 52,
     "metadata": {},
     "output_type": "execute_result"
    }
   ],
   "source": [
    "'Michael' == 'obnoxious'"
   ]
  },
  {
   "cell_type": "markdown",
   "metadata": {},
   "source": [
    "Really, Python?"
   ]
  },
  {
   "cell_type": "code",
   "execution_count": 53,
   "metadata": {},
   "outputs": [
    {
     "data": {
      "text/plain": [
       "False"
      ]
     },
     "execution_count": 53,
     "metadata": {},
     "output_type": "execute_result"
    }
   ],
   "source": [
    "'Jan' is 'Pam'"
   ]
  },
  {
   "cell_type": "code",
   "execution_count": 54,
   "metadata": {},
   "outputs": [
    {
     "data": {
      "text/plain": [
       "True"
      ]
     },
     "execution_count": 54,
     "metadata": {},
     "output_type": "execute_result"
    }
   ],
   "source": [
    "'Pam' is 'Pam'"
   ]
  },
  {
   "cell_type": "markdown",
   "metadata": {},
   "source": [
    "See what's going on here?"
   ]
  },
  {
   "cell_type": "code",
   "execution_count": 68,
   "metadata": {},
   "outputs": [],
   "source": [
    "age = 31"
   ]
  },
  {
   "cell_type": "code",
   "execution_count": 69,
   "metadata": {},
   "outputs": [
    {
     "name": "stdout",
     "output_type": "stream",
     "text": [
      "Kids these days...\n"
     ]
    }
   ],
   "source": [
    "if age < 30:\n",
    "    print(\"It's OK, you're not old yet...\")\n",
    "else:\n",
    "    print(\"Kids these days...\")"
   ]
  },
  {
   "cell_type": "code",
   "execution_count": 70,
   "metadata": {},
   "outputs": [
    {
     "name": "stdout",
     "output_type": "stream",
     "text": [
      "Kids these days...\n"
     ]
    }
   ],
   "source": [
    "if age < 30:\n",
    "    print(\"It's OK, you're not old yet...\")\n",
    "elif age > 30: # elif is short for else if. there is no limit on the number of elif statements you have. else has to be at end if there is one, but you don't necessarily need one. \n",
    "    print(\"Kids these days...\")\n",
    "else:\n",
    "    print(\"Well, this is a big year for you...\")"
   ]
  },
  {
   "cell_type": "markdown",
   "metadata": {},
   "source": [
    "You can have nested conditionals (i.e. conditionals inside of other conditionals). Can you come up with an example? "
   ]
  },
  {
   "cell_type": "code",
   "execution_count": null,
   "metadata": {},
   "outputs": [],
   "source": []
  },
  {
   "cell_type": "code",
   "execution_count": null,
   "metadata": {},
   "outputs": [],
   "source": []
  },
  {
   "cell_type": "markdown",
   "metadata": {},
   "source": [
    "Try and except. What's happening in the code block below?"
   ]
  },
  {
   "cell_type": "code",
   "execution_count": 75,
   "metadata": {},
   "outputs": [
    {
     "name": "stdout",
     "output_type": "stream",
     "text": [
      "Please enter a number\n"
     ]
    }
   ],
   "source": [
    "inp = input('Enter Fahrenheit Temperature:') \n",
    "try:\n",
    "    fahr = float(inp)\n",
    "    cel = (fahr - 32.0) * 5.0 / 9.0\n",
    "    print(cel)\n",
    "except:\n",
    "    print('Please enter a number')"
   ]
  },
  {
   "cell_type": "markdown",
   "metadata": {},
   "source": [
    "# Short Challenge"
   ]
  },
  {
   "cell_type": "markdown",
   "metadata": {},
   "source": [
    "Write code that prompt for a score between 0.0 and 1.0. If the score is out of range, print an error message. If the score is between 0.0 and 1.0, print a grade using the following breakdown:\n",
    "\n",
    "* Letter Grade A is >= 0.9\n",
    "* Letter Grade B is >= 0.8    \n",
    "* Letter Grade C is >= 0.7 \n",
    "* Letter Grade D is >= 0.6    \n",
    "* Letter Grade F is <0.6   "
   ]
  },
  {
   "cell_type": "markdown",
   "metadata": {},
   "source": [
    " "
   ]
  },
  {
   "cell_type": "code",
   "execution_count": null,
   "metadata": {},
   "outputs": [],
   "source": []
  },
  {
   "cell_type": "markdown",
   "metadata": {},
   "source": [
    "# Functions"
   ]
  },
  {
   "cell_type": "markdown",
   "metadata": {},
   "source": [
    "Quotations below are from the Severance book."
   ]
  },
  {
   "cell_type": "markdown",
   "metadata": {},
   "source": [
    "\"In the context of programming, a function is a named sequence of statements that performs a computation. When you define a function, you specify the name and the sequence of statements. Later, you can “call” the function by name. We have already seen one example of a function call:\""
   ]
  },
  {
   "cell_type": "code",
   "execution_count": 77,
   "metadata": {},
   "outputs": [
    {
     "data": {
      "text/plain": [
       "int"
      ]
     },
     "execution_count": 77,
     "metadata": {},
     "output_type": "execute_result"
    }
   ],
   "source": [
    "type(7)"
   ]
  },
  {
   "cell_type": "code",
   "execution_count": 79,
   "metadata": {},
   "outputs": [
    {
     "data": {
      "text/plain": [
       "37"
      ]
     },
     "execution_count": 79,
     "metadata": {},
     "output_type": "execute_result"
    }
   ],
   "source": [
    "len('Limitless paper in a paperless world.')"
   ]
  },
  {
   "cell_type": "markdown",
   "metadata": {},
   "source": [
    "\"The name of the function is type. The expression in parentheses is called the argument of the function. The argument is a value or variable that we are passing into the function as input to the function. The result, for the type function, is the type of the argument. It is common to say that a function “takes” an argument and “returns” a result. The result is called the return value.\""
   ]
  },
  {
   "cell_type": "code",
   "execution_count": 81,
   "metadata": {},
   "outputs": [],
   "source": [
    "import random"
   ]
  },
  {
   "cell_type": "code",
   "execution_count": 82,
   "metadata": {},
   "outputs": [
    {
     "name": "stdout",
     "output_type": "stream",
     "text": [
      "0.28514727908386317\n",
      "0.7787737845545166\n",
      "0.14775535052513122\n",
      "0.6923291153302135\n",
      "0.12998835157975486\n",
      "0.8221507303524367\n",
      "0.49182915024971163\n",
      "0.760206519499993\n",
      "0.23975411964368398\n",
      "0.7426465276801798\n",
      "0.4629558337409423\n",
      "0.6964410030640219\n",
      "0.440724371568293\n",
      "0.880903955671352\n",
      "0.7951476162925079\n",
      "0.7618419938738562\n",
      "0.8580310356066408\n",
      "0.8223681906372844\n",
      "0.7836809205174027\n",
      "0.8669355236023201\n",
      "0.6365892583631212\n",
      "0.7417249070164771\n",
      "0.9551522622041375\n"
     ]
    }
   ],
   "source": [
    "for i in range(23):\n",
    "    x = random.random()\n",
    "    print(x)"
   ]
  },
  {
   "cell_type": "code",
   "execution_count": 84,
   "metadata": {},
   "outputs": [],
   "source": [
    "list_of_nums = []\n",
    "\n",
    "for i in range(23):\n",
    "    x = random.random()\n",
    "    list_of_nums.append(x)"
   ]
  },
  {
   "cell_type": "code",
   "execution_count": 85,
   "metadata": {},
   "outputs": [
    {
     "name": "stdout",
     "output_type": "stream",
     "text": [
      "[0.7326892969002281, 0.8943510437180603, 0.9425464510938534, 0.67931545055168, 0.6909592699544757, 0.7581868685501145, 0.2641460003987087, 0.8330602891079751, 0.28802979919296134, 0.7528412061644804, 0.6941860540930652, 0.8678897723425704, 0.04804843697567074, 0.7268073337878335, 0.2599543105184996, 0.3205641513342027, 0.5090932563794187, 0.16797486345871704, 0.23888518691423333, 0.7513122456344136, 0.152332241780736, 0.7624654079288921, 0.31757070943619525]\n"
     ]
    }
   ],
   "source": [
    "print(list_of_nums)"
   ]
  },
  {
   "cell_type": "code",
   "execution_count": 86,
   "metadata": {},
   "outputs": [
    {
     "name": "stdout",
     "output_type": "stream",
     "text": [
      "0.7326892969002281\n",
      "0.8943510437180603\n",
      "0.9425464510938534\n",
      "0.67931545055168\n",
      "0.6909592699544757\n",
      "0.7581868685501145\n",
      "0.2641460003987087\n",
      "0.8330602891079751\n",
      "0.28802979919296134\n",
      "0.7528412061644804\n",
      "0.6941860540930652\n",
      "0.8678897723425704\n",
      "0.04804843697567074\n",
      "0.7268073337878335\n",
      "0.2599543105184996\n",
      "0.3205641513342027\n",
      "0.5090932563794187\n",
      "0.16797486345871704\n",
      "0.23888518691423333\n",
      "0.7513122456344136\n",
      "0.152332241780736\n",
      "0.7624654079288921\n",
      "0.31757070943619525\n"
     ]
    }
   ],
   "source": [
    "for num in list_of_nums:\n",
    "    print(num)"
   ]
  },
  {
   "cell_type": "code",
   "execution_count": 87,
   "metadata": {},
   "outputs": [
    {
     "data": {
      "text/plain": [
       "0.6909592699544757"
      ]
     },
     "execution_count": 87,
     "metadata": {},
     "output_type": "execute_result"
    }
   ],
   "source": [
    "random.choice(list_of_nums)"
   ]
  },
  {
   "cell_type": "markdown",
   "metadata": {},
   "source": [
    "It is possible to define our own functions and call them in Python. This is a really nice way to avoid retyping the same generic instructions, which can result in mistakes in our code. "
   ]
  },
  {
   "cell_type": "code",
   "execution_count": 88,
   "metadata": {},
   "outputs": [],
   "source": [
    "yogi_berra_quotes = [\"When you come to a fork in the road, take it.\", \n",
    "                     \"You can observe a lot by just watching.\", \n",
    "                     \"It ain’t over till it’s over.\", \n",
    "                     \"It’s like déjà vu all over again.\", \n",
    "                     \"No one goes there nowadays, it’s too crowded.\", \n",
    "                     \"Baseball is 90% mental and the other half is physical.\", \n",
    "                     \"A nickel ain’t worth a dime anymore.\", \n",
    "                     \"Always go to other people’s funerals, otherwise they won’t come to yours.\", \n",
    "                     \"We made too many wrong mistakes.\", \n",
    "                     \"Congratulations. I knew the record would stand until it was broken.\"]"
   ]
  },
  {
   "cell_type": "code",
   "execution_count": 89,
   "metadata": {},
   "outputs": [],
   "source": [
    "def yogi():\n",
    "    print(random.choice(yogi_berra_quotes))"
   ]
  },
  {
   "cell_type": "code",
   "execution_count": 91,
   "metadata": {},
   "outputs": [
    {
     "name": "stdout",
     "output_type": "stream",
     "text": [
      "When you come to a fork in the road, take it.\n"
     ]
    }
   ],
   "source": [
    "yogi()"
   ]
  },
  {
   "cell_type": "markdown",
   "metadata": {},
   "source": [
    "If the parantheses after the function name are empty, then the function doesn't take any arguments. If they are not empty, then the function *does* take arguments. "
   ]
  },
  {
   "cell_type": "code",
   "execution_count": 103,
   "metadata": {},
   "outputs": [],
   "source": [
    "def yogi(name):\n",
    "    print('OK, ' + name + \", I've thought about your situation. Here is my advice: \" + random.choice(yogi_berra_quotes))"
   ]
  },
  {
   "cell_type": "code",
   "execution_count": 107,
   "metadata": {},
   "outputs": [
    {
     "name": "stdout",
     "output_type": "stream",
     "text": [
      "OK, John, I've thought about your situation. Here is my advice: Baseball is 90% mental and the other half is physical.\n"
     ]
    }
   ],
   "source": [
    "yogi('John')"
   ]
  },
  {
   "cell_type": "code",
   "execution_count": 112,
   "metadata": {},
   "outputs": [
    {
     "name": "stdout",
     "output_type": "stream",
     "text": [
      "OK, John, I've thought about your situation. Here is my advice: A nickel ain’t worth a dime anymore.\n"
     ]
    }
   ],
   "source": [
    "advice = yogi('John')"
   ]
  },
  {
   "cell_type": "code",
   "execution_count": 113,
   "metadata": {},
   "outputs": [],
   "source": [
    "advice"
   ]
  },
  {
   "cell_type": "markdown",
   "metadata": {},
   "source": [
    "What's going on here?"
   ]
  },
  {
   "cell_type": "code",
   "execution_count": 116,
   "metadata": {},
   "outputs": [],
   "source": [
    "def yogi(name):\n",
    "    return('OK, ' + name + \", I've thought about your situation. Here is my advice: \" + random.choice(yogi_berra_quotes))"
   ]
  },
  {
   "cell_type": "code",
   "execution_count": 117,
   "metadata": {},
   "outputs": [],
   "source": [
    "advice = yogi('John')"
   ]
  },
  {
   "cell_type": "code",
   "execution_count": 118,
   "metadata": {},
   "outputs": [
    {
     "data": {
      "text/plain": [
       "\"OK, John, I've thought about your situation. Here is my advice: We made too many wrong mistakes.\""
      ]
     },
     "execution_count": 118,
     "metadata": {},
     "output_type": "execute_result"
    }
   ],
   "source": [
    "advice"
   ]
  },
  {
   "cell_type": "markdown",
   "metadata": {},
   "source": [
    "Do you see what's happening there?"
   ]
  },
  {
   "cell_type": "code",
   "execution_count": 105,
   "metadata": {},
   "outputs": [],
   "source": [
    "def print_three(Canada):\n",
    "    print(Canada)\n",
    "    print(Canada)\n",
    "    print(Canada)"
   ]
  },
  {
   "cell_type": "code",
   "execution_count": 106,
   "metadata": {},
   "outputs": [
    {
     "name": "stdout",
     "output_type": "stream",
     "text": [
      "Ukraine\n",
      "Ukraine\n",
      "Ukraine\n"
     ]
    }
   ],
   "source": [
    "print_three('Ukraine')"
   ]
  },
  {
   "cell_type": "markdown",
   "metadata": {},
   "source": [
    "Do you see what is happening here ^?"
   ]
  },
  {
   "cell_type": "markdown",
   "metadata": {},
   "source": [
    "# Let's play for a bit...\n",
    "\n",
    "Modify the code in the functions above and see what happens. Then try writing your own functions to do something."
   ]
  },
  {
   "cell_type": "markdown",
   "metadata": {},
   "source": [
    "Make sure you read the section of Severance where he explains flow of execution. Having read that question, which is better? \n",
    "\n",
    "* when you read a program, just go from from top to bottom\n",
    "* when you read a program, try to follow the flow of execution"
   ]
  },
  {
   "cell_type": "markdown",
   "metadata": {},
   "source": [
    "Read the section \"Why Functions.\" What are four reasons why you should be dividing programs into functions?"
   ]
  },
  {
   "cell_type": "code",
   "execution_count": null,
   "metadata": {},
   "outputs": [],
   "source": []
  }
 ],
 "metadata": {
  "kernelspec": {
   "display_name": "Python 3",
   "language": "python",
   "name": "python3"
  },
  "language_info": {
   "codemirror_mode": {
    "name": "ipython",
    "version": 3
   },
   "file_extension": ".py",
   "mimetype": "text/x-python",
   "name": "python",
   "nbconvert_exporter": "python",
   "pygments_lexer": "ipython3",
   "version": "3.6.3"
  }
 },
 "nbformat": 4,
 "nbformat_minor": 2
}
