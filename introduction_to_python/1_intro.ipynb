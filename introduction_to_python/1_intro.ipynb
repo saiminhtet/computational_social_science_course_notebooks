{
 "cells": [
  {
   "cell_type": "markdown",
   "metadata": {},
   "source": [
    "# Introduction to Python\n",
    "\n",
    "John McLevey   \n",
    "January 2018 \n",
    "\n",
    "This notebook is part of the course materials for my \"[Big Data and Social Science Research](http://www.johnmclevey.com/475)\" course at the University of Waterloo. \n",
    "\n",
    "By the end of this class, you should be able to (1) assign things to variables, (2) execute code conditionally, and (3) explain what a function is, use built-in functions, and understand when, why, and how you might want to write your functions.\n",
    "\n",
    "## Readings\n",
    "\n",
    "- Chapter 1 \"Why should you learn to write programs?\" from [Python for Everyone](https://www.py4e.com/html3/)\n",
    "- Chapter 2 \"Variables, expressions, and statements\" from [Python for Everyone](https://www.py4e.com/html3/)\n",
    "- Chapter 3 \"Conditional execution\" from [Python for Everyone](https://www.py4e.com/html3/)\n",
    "- Chapter 4 \"Functions\" from [Python for Everyone](https://www.py4e.com/html3/)\n",
    "- **Supplementary / Optional**: Watch and follow along with Jessica McKellar's \"[A Hands-On Introduction to Python for Beginning Programmers](https://www.youtube.com/watch?v=rkx5_MRAV3A).\" If you have no previous Python background, I recommend watching and following along with McKellar's tutorial before coming to class.\n",
    "- **Supplementary / Optional**: Watch Brian Granger, Chris Colbert, and Ian Rose's 2017 talk \"[JupyterLab: The Evolution of the Jupyter Notebook](https://www.youtube.com/watch?v=w7jq4XgwLJQ)\" to get a sense of what you can do with Jupyter Lab."
   ]
  },
  {
   "cell_type": "markdown",
   "metadata": {},
   "source": [
    "## Some key takeaways from the readings\n",
    "\n",
    "* Computers are best at the kind of things humans find boring and mind-numbing. When you learn how to speak to the computer, you can delegate those boring tasks and focus on the things that you are unique suited for (as a human...) \n",
    "* Your Python scripts (and scripts in other languages) are just sets of instructions for your computer to follow. Your computer will not understand your instructions if there are errors -- however small -- in your instructions. Remember, your computer is *not* smart. It is not intelligent at all. You must be *very precise* when you communicate with it.\n",
    "* According to Severance, you need two skills to be a programmer. As he puts it: \n",
    "    1. 'First, you need to know the programming language (Python) - you need to know the vocabulary and the grammar. You need to be able to spell the words in this new language properly and know how to construct well-formed “sentences” in this new language.'\n",
    "    2. 'Second, you need to “tell a story”. In writing a story, you combine words and sentences to convey an idea to the reader. There is a skill and art in constructing the story, and skill in story writing is improved by doing some writing and getting some feedback. In programming, our program is the “story” and the problem you are trying to solve is the “idea”.'\n",
    "\n",
    "> You will learn the “vocabulary” and “sentences” of Python pretty quickly. It will take longer for you to be able to write a coherent program to solve a brand-new problem. We teach programming much like we teach writing. We start reading and explaining programs, then we write simple programs, and then we write in- creasingly complex programs over time. At some point you “get your muse” and see the patterns on your own and can see more naturally how to take a problem and write a program that solves that problem. And once you get to that point, programming becomes a very pleasant and creative process. (Severance)\n",
    "\n",
    "* Some words in Python are \"reserved.\" What are they? (Hint: remember the dog analogy)\n",
    "* \"Low-level conceptual patterns\" used to construct programs:\n",
    "    * **input**: Get data from the “outside world”. This might be reading data from a file, or even some kind of sensor like a microphone or GPS. In our initial programs, our input will come from the user typing data on the keyboard.\n",
    "    * **output**: Display the results of the program on a screen or store them in a file or perhaps write them to a device like a speaker to play music or speak text.\n",
    "    * **Sequential execution**: Perform statements one after another in the order they are encountered in the script.\n",
    "    * **Sequential execution**:  Perform statements one after another in the order they are encountered in the script.\n",
    "    * **Conditional execution**: Check for certain conditions and then execute or skip a sequence of statements.\n",
    "    * **Repeated execution**: Perform some set of statements repeatedly, usually with some variation.\n",
    "    * **Reuse**: Write a set of instructions once and give them a name and then reuse those instructions as needed throughout your program.\n",
    "    \n",
    "> It sounds almost too simple to be true, and of course it is never so simple. It is like saying that walking is simply “putting one foot in front of the other”. The “art” of writing a program is composing and weaving these basic elements together many times over to produce something that is useful to its users. (Severance)\n",
    "\n",
    "* It takes a while to learn and understand a new language. It might take a bit of time before this feels natural. \n",
    "\n",
    "Severance constrasts 3 different types of errors you are likely to encounter:\n",
    "\n",
    "1. **Syntax errors** 'These are the first errors you will make and the easiest to fix. A syntax error means that you have violated the “grammar” rules of Python. Python does its best to point right at the line and character where it noticed it was confused. The only tricky bit of syntax errors is that sometimes the mistake that needs fixing is actually earlier in the program than where Python noticed it was confused. So the line and character that Python indicates in a syntax error may just be a starting point for your investigation.'\n",
    "2. **Logic errors** 'A logic error is when your program has good syntax but there is a mistake in the order of the statements or perhaps a mistake in how the statements relate to one another. A good example of a logic error might be, “take a drink from your water bottle, put it in your backpack, walk to the library, and then put the top back on the bottle.”'\n",
    "3. **Semantic errors** 'A semantic error is when your description of the steps to take is syntactically perfect and in the right order, but there is simply a mistake in the program. The program is perfectly correct but it does not do what you intended for it to do. A simple example would be if you were giving a person directions to a restaurant and said, “. . . when you reach the intersection with the gas station, turn left and go one mile and the restaurant is a red building on your left.” Your friend is very late and calls you to tell you that they are on a farm and walking around behind a barn, with no sign of a restaurant. Then you say “did you turn left or right at the gas station?” and they say, “I followed your directions perfectly, I have them written down, it says turn left and go one mile at the gas station.” Then you say, “I am very sorry, because while my instructions were syntactically correct, they sadly contained a small but undetected semantic error.”.'"
   ]
  },
  {
   "cell_type": "markdown",
   "metadata": {},
   "source": [
    "Some terrific advice from Severance:\n",
    "\n",
    "> If something seems particularly hard, there is usually no value in staying up all night and staring at it. Take a break, take a nap, have a snack, explain what you are having a problem with to someone (or perhaps your dog), and then come back to it with fresh eyes. I assure you that once you learn the programming concepts in the book you will look back and see that it was all really easy and elegant and it simply took you a bit of time to absorb it."
   ]
  },
  {
   "cell_type": "markdown",
   "metadata": {},
   "source": [
    "# The Zen of Python"
   ]
  },
  {
   "cell_type": "code",
   "execution_count": 3,
   "metadata": {},
   "outputs": [
    {
     "name": "stdout",
     "output_type": "stream",
     "text": [
      "The Zen of Python, by Tim Peters\n",
      "\n",
      "Beautiful is better than ugly.\n",
      "Explicit is better than implicit.\n",
      "Simple is better than complex.\n",
      "Complex is better than complicated.\n",
      "Flat is better than nested.\n",
      "Sparse is better than dense.\n",
      "Readability counts.\n",
      "Special cases aren't special enough to break the rules.\n",
      "Although practicality beats purity.\n",
      "Errors should never pass silently.\n",
      "Unless explicitly silenced.\n",
      "In the face of ambiguity, refuse the temptation to guess.\n",
      "There should be one-- and preferably only one --obvious way to do it.\n",
      "Although that way may not be obvious at first unless you're Dutch.\n",
      "Now is better than never.\n",
      "Although never is often better than *right* now.\n",
      "If the implementation is hard to explain, it's a bad idea.\n",
      "If the implementation is easy to explain, it may be a good idea.\n",
      "Namespaces are one honking great idea -- let's do more of those!\n"
     ]
    }
   ],
   "source": [
    "import this"
   ]
  },
  {
   "cell_type": "markdown",
   "metadata": {},
   "source": [
    "# Getting started"
   ]
  },
  {
   "cell_type": "code",
   "execution_count": 1,
   "metadata": {},
   "outputs": [
    {
     "name": "stdout",
     "output_type": "stream",
     "text": [
      "Hello World!\n"
     ]
    }
   ],
   "source": [
    "print('Hello World!')"
   ]
  },
  {
   "cell_type": "markdown",
   "metadata": {},
   "source": [
    "Try using the print function yourself. What happens if you omit the quotes, or have a set of quotes inside those quotes? What happens if you try to start a new line?"
   ]
  },
  {
   "cell_type": "markdown",
   "metadata": {},
   "source": [
    "# Variables, expressions, and statements"
   ]
  },
  {
   "cell_type": "code",
   "execution_count": null,
   "metadata": {},
   "outputs": [],
   "source": []
  }
 ],
 "metadata": {
  "kernelspec": {
   "display_name": "Python 3",
   "language": "python",
   "name": "python3"
  },
  "language_info": {
   "codemirror_mode": {
    "name": "ipython",
    "version": 3
   },
   "file_extension": ".py",
   "mimetype": "text/x-python",
   "name": "python",
   "nbconvert_exporter": "python",
   "pygments_lexer": "ipython3",
   "version": "3.6.3"
  }
 },
 "nbformat": 4,
 "nbformat_minor": 2
}
