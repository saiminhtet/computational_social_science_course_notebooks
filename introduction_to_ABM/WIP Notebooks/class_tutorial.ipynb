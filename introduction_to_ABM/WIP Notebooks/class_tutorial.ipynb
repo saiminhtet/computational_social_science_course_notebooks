{
 "cells": [
  {
   "cell_type": "markdown",
   "metadata": {},
   "source": [
    "# Quick and Dirty Tutorial on Classes and Inheritence in Python\n",
    "\n",
    "\n",
    "\n"
   ]
  },
  {
   "cell_type": "markdown",
   "metadata": {},
   "source": [
    "## Basic Classes, Methods, and Docstrings\n",
    "\n",
    "What follows is possibly the most basic class one can create:"
   ]
  },
  {
   "cell_type": "code",
   "execution_count": 27,
   "metadata": {},
   "outputs": [],
   "source": [
    "class Lacuna:\n",
    "    pass"
   ]
  },
  {
   "cell_type": "markdown",
   "metadata": {},
   "source": [
    "We can do a little more with nothingness, though. In this next class, I've added a docstring and a method.\n",
    "\n",
    "__It is critical that you include 'self' as the first argument in almost every class method you define.__ Without doing so, instancing will rapidly become a messy nightmare. More on that later."
   ]
  },
  {
   "cell_type": "code",
   "execution_count": 28,
   "metadata": {},
   "outputs": [],
   "source": [
    "class Sentient_Void:\n",
    "    \n",
    "    \"\"\"There is nothing here\"\"\"\n",
    "    \n",
    "    def peer_into_abyss(self):\n",
    "        print(\"Are you staring into the abyss, or is it staring into you?\")\n",
    "\n"
   ]
  },
  {
   "cell_type": "code",
   "execution_count": 29,
   "metadata": {},
   "outputs": [
    {
     "ename": "TypeError",
     "evalue": "peer_into_abyss() missing 1 required positional argument: 'self'",
     "output_type": "error",
     "traceback": [
      "\u001b[1;31m---------------------------------------------------------------------------\u001b[0m",
      "\u001b[1;31mTypeError\u001b[0m                                 Traceback (most recent call last)",
      "\u001b[1;32m<ipython-input-29-925337d938ff>\u001b[0m in \u001b[0;36m<module>\u001b[1;34m()\u001b[0m\n\u001b[1;32m----> 1\u001b[1;33m \u001b[0mSentient_Void\u001b[0m\u001b[1;33m.\u001b[0m\u001b[0mpeer_into_abyss\u001b[0m\u001b[1;33m(\u001b[0m\u001b[1;33m)\u001b[0m\u001b[1;33m\u001b[0m\u001b[0m\n\u001b[0m",
      "\u001b[1;31mTypeError\u001b[0m: peer_into_abyss() missing 1 required positional argument: 'self'"
     ]
    }
   ],
   "source": [
    "Sentient_Void.peer_into_abyss()"
   ]
  },
  {
   "cell_type": "markdown",
   "metadata": {},
   "source": [
    "Main takeaway: if a void doesn't understand itself, you can't really stare into it. Yeah. That's the real lesson here. \n",
    "\n",
    "Even though the in-class method fails to resolve, we can still access the docstring using the `__doc__` method"
   ]
  },
  {
   "cell_type": "code",
   "execution_count": 30,
   "metadata": {},
   "outputs": [
    {
     "name": "stdout",
     "output_type": "stream",
     "text": [
      "There is nothing here\n"
     ]
    }
   ],
   "source": [
    "print(Sentient_Void.__doc__)"
   ]
  },
  {
   "cell_type": "markdown",
   "metadata": {},
   "source": [
    "To get things working properly, let's create an _instance_ of a class:"
   ]
  },
  {
   "cell_type": "code",
   "execution_count": 31,
   "metadata": {},
   "outputs": [],
   "source": [
    "one_void_of_many = Sentient_Void()"
   ]
  },
  {
   "cell_type": "code",
   "execution_count": 32,
   "metadata": {},
   "outputs": [
    {
     "name": "stdout",
     "output_type": "stream",
     "text": [
      "There is nothing here\n"
     ]
    }
   ],
   "source": [
    "print(one_void_of_many.__doc__)"
   ]
  },
  {
   "cell_type": "code",
   "execution_count": 33,
   "metadata": {},
   "outputs": [
    {
     "name": "stdout",
     "output_type": "stream",
     "text": [
      "Are you staring into the abyss, or is it staring into you?\n"
     ]
    }
   ],
   "source": [
    "one_void_of_many.peer_into_abyss()"
   ]
  },
  {
   "cell_type": "markdown",
   "metadata": {},
   "source": [
    "## Namespaces, Attributes, and the '__init__' Function\n",
    "\n",
    "When you define a class, any functions internal to the class (or an instance thereof) are called 'methods,' and any variable internal to the class is called an 'attribute.'\n",
    "\n",
    "'Thing,' the class below, defines two attributes: one is an integer, the other is a boolean value. "
   ]
  },
  {
   "cell_type": "code",
   "execution_count": 34,
   "metadata": {},
   "outputs": [],
   "source": [
    "class Thing:\n",
    "    \n",
    "    arbitrary_number = 42\n",
    "    \n",
    "    def __init__(self):\n",
    "        self.exists = True\n",
    "        "
   ]
  },
  {
   "cell_type": "markdown",
   "metadata": {},
   "source": [
    "Let's also make an instance of 'Thing,' which, after plumbing the vast depths of my  imagination, I decided to call 'instance.' \n",
    "\n",
    "(Note that if you don't include the brackets after the name of the class you're creating an instance of, you're telling python to duplicate the class definition, rather than create an instance of the class).  "
   ]
  },
  {
   "cell_type": "code",
   "execution_count": 35,
   "metadata": {},
   "outputs": [],
   "source": [
    "instance = Thing()"
   ]
  },
  {
   "cell_type": "markdown",
   "metadata": {},
   "source": [
    "If you ask python to fetch the 'arbitrary number' attribute inside Thing, it'll do so. The same goes for the instance."
   ]
  },
  {
   "cell_type": "code",
   "execution_count": 36,
   "metadata": {},
   "outputs": [
    {
     "data": {
      "text/plain": [
       "42"
      ]
     },
     "execution_count": 36,
     "metadata": {},
     "output_type": "execute_result"
    }
   ],
   "source": [
    "Thing.arbitrary_number"
   ]
  },
  {
   "cell_type": "code",
   "execution_count": 37,
   "metadata": {},
   "outputs": [
    {
     "data": {
      "text/plain": [
       "42"
      ]
     },
     "execution_count": 37,
     "metadata": {},
     "output_type": "execute_result"
    }
   ],
   "source": [
    "instance.arbitrary_number"
   ]
  },
  {
   "cell_type": "markdown",
   "metadata": {},
   "source": [
    "However, if you change the value of an attribute defined inside Thing, something curious happens."
   ]
  },
  {
   "cell_type": "code",
   "execution_count": 38,
   "metadata": {},
   "outputs": [],
   "source": [
    "Thing.arbitrary_number = 52"
   ]
  },
  {
   "cell_type": "code",
   "execution_count": 39,
   "metadata": {},
   "outputs": [
    {
     "data": {
      "text/plain": [
       "52"
      ]
     },
     "execution_count": 39,
     "metadata": {},
     "output_type": "execute_result"
    }
   ],
   "source": [
    "Thing.arbitrary_number"
   ]
  },
  {
   "cell_type": "code",
   "execution_count": 40,
   "metadata": {},
   "outputs": [
    {
     "data": {
      "text/plain": [
       "52"
      ]
     },
     "execution_count": 40,
     "metadata": {},
     "output_type": "execute_result"
    }
   ],
   "source": [
    "instance.arbitrary_number"
   ]
  },
  {
   "cell_type": "markdown",
   "metadata": {},
   "source": [
    "Even though 'Thing' and 'instance' are different objects, python didn't create a separate attribute called 'arbitrary_number' for the instance; instead, it created a memory pointer which, when called, refers back to the same 'arbitrary_number' as was defined inside Thing. \n",
    "\n",
    "Thus, when you change one, you also change the other. \n",
    "\n",
    "This can be useful if changes in some property of the class need to be reflected in each of its instances. For example:"
   ]
  },
  {
   "cell_type": "code",
   "execution_count": 41,
   "metadata": {},
   "outputs": [
    {
     "name": "stdout",
     "output_type": "stream",
     "text": [
      "True\n"
     ]
    }
   ],
   "source": [
    "class Marajuana:\n",
    "    \n",
    "    legal = False\n",
    "    \n",
    "dank_kush = Marajuana()\n",
    "\n",
    "Marajuana.legal = True\n",
    "\n",
    "print(dank_kush.legal)   "
   ]
  },
  {
   "cell_type": "markdown",
   "metadata": {},
   "source": [
    "Other times, you don't want this to be the case (in the previous example, replace 'Marajuana' with 'Drugs' and 'dank_kush' with 'Caffeine' to get an idea of why). This is where the `__init__` method comes into play.\n",
    "\n",
    "`__init__` is a special method which is always called when an instace of a class is created. It's useful for mass-defining independent attributes (as in, changing one does not alter the others) for multiple instances of the same class. "
   ]
  },
  {
   "cell_type": "code",
   "execution_count": 42,
   "metadata": {},
   "outputs": [],
   "source": [
    "class Thing:\n",
    "    \n",
    "    arbitrary_number = 42\n",
    "    \n",
    "    def __init__(self):\n",
    "        self.exists = True\n",
    "\n",
    "instance = Thing()"
   ]
  },
  {
   "cell_type": "code",
   "execution_count": 43,
   "metadata": {},
   "outputs": [
    {
     "data": {
      "text/plain": [
       "True"
      ]
     },
     "execution_count": 43,
     "metadata": {},
     "output_type": "execute_result"
    }
   ],
   "source": [
    "instance.exists"
   ]
  },
  {
   "cell_type": "markdown",
   "metadata": {},
   "source": [
    "Note that class definitions do _not_ run the `__init__` method when they are created/defined:"
   ]
  },
  {
   "cell_type": "code",
   "execution_count": 44,
   "metadata": {},
   "outputs": [
    {
     "ename": "AttributeError",
     "evalue": "type object 'Thing' has no attribute 'exists'",
     "output_type": "error",
     "traceback": [
      "\u001b[1;31m---------------------------------------------------------------------------\u001b[0m",
      "\u001b[1;31mAttributeError\u001b[0m                            Traceback (most recent call last)",
      "\u001b[1;32m<ipython-input-44-9b6f44707c2e>\u001b[0m in \u001b[0;36m<module>\u001b[1;34m()\u001b[0m\n\u001b[1;32m----> 1\u001b[1;33m \u001b[0mThing\u001b[0m\u001b[1;33m.\u001b[0m\u001b[0mexists\u001b[0m\u001b[1;33m\u001b[0m\u001b[0m\n\u001b[0m",
      "\u001b[1;31mAttributeError\u001b[0m: type object 'Thing' has no attribute 'exists'"
     ]
    }
   ],
   "source": [
    "Thing.exists"
   ]
  },
  {
   "cell_type": "markdown",
   "metadata": {},
   "source": [
    "## Inheritance and the '__super__' method\n",
    "\n",
    "Classes can inherit from one another. Classes which inherit from other classes are called 'subclasses' of the 'parent' class,  and inherit all of the attributes and methods defined for said parent class, including special methods such as `__init__`"
   ]
  },
  {
   "cell_type": "code",
   "execution_count": 45,
   "metadata": {},
   "outputs": [],
   "source": [
    "class Concept:\n",
    "    \n",
    "    def __init__(self):\n",
    "        self.exists = False           \n"
   ]
  },
  {
   "cell_type": "code",
   "execution_count": 46,
   "metadata": {},
   "outputs": [],
   "source": [
    "class Physical_Object:\n",
    "    \n",
    "    def __init__(self):\n",
    "        self.exists = True\n",
    "        "
   ]
  },
  {
   "cell_type": "markdown",
   "metadata": {},
   "source": [
    "When you want to indicate that a class inherits from another class, include the name of the class you want to inherit from in brackets after the name of the inheriting class, like so:"
   ]
  },
  {
   "cell_type": "code",
   "execution_count": 47,
   "metadata": {},
   "outputs": [],
   "source": [
    "class Student(Physical_Object):\n",
    "    \n",
    "    def __init__(self):\n",
    "        self.financially_solvent = False\n",
    "        super().__init__()"
   ]
  },
  {
   "cell_type": "markdown",
   "metadata": {},
   "source": [
    "__It's critical to note that even though a subclass will inherit the `__init__` method from its parent class(es), it will not run them__\n",
    "\n",
    "This is where the `__super__` method proves useful. Python 3 makes it easy to import and then run parent classes' `__init__` methods using a simple line of code (itself included in the subclass's `__init__` method): \n",
    "\n",
    "```Python\n",
    "super().__init__()\n",
    "```\n",
    "\n",
    "You can see how `__super__` works in the Student, Faculty, and UW_President classes. When a sublcass inherits from another subclass, the `__super__` method can be daisy-chained, but it needs to appear in every subclass in order to work properly. "
   ]
  },
  {
   "cell_type": "code",
   "execution_count": 48,
   "metadata": {},
   "outputs": [],
   "source": [
    "class Faculty(Physical_Object):\n",
    "    \n",
    "    def __init__(self):\n",
    "        self.financially_solvent = True\n",
    "        super().__init__()"
   ]
  },
  {
   "cell_type": "code",
   "execution_count": 49,
   "metadata": {},
   "outputs": [],
   "source": [
    "class UW_President(Faculty):\n",
    "    \n",
    "    def __init__(self):\n",
    "        self.meme_potential = \"Off the charts\"\n",
    "        super().__init__()\n",
    "        \n",
    "    def innovate(self):\n",
    "        print(\"I N N O V A T I O N\")"
   ]
  },
  {
   "cell_type": "code",
   "execution_count": 57,
   "metadata": {},
   "outputs": [
    {
     "name": "stdout",
     "output_type": "stream",
     "text": [
      "True\n",
      "True\n",
      "Off the charts\n",
      "I N N O V A T I O N\n"
     ]
    }
   ],
   "source": [
    "feridun = UW_President()\n",
    "\n",
    "print(feridun.exists)\n",
    "print(feridun.financially_solvent)\n",
    "print(feridun.meme_potential)\n",
    "feridun.innovate()"
   ]
  },
  {
   "cell_type": "code",
   "execution_count": 58,
   "metadata": {},
   "outputs": [
    {
     "name": "stdout",
     "output_type": "stream",
     "text": [
      "True\n",
      "False\n"
     ]
    }
   ],
   "source": [
    "pierson = Student()\n",
    "\n",
    "print(pierson.exists)\n",
    "print(pierson.financially_solvent)\n"
   ]
  },
  {
   "cell_type": "code",
   "execution_count": 59,
   "metadata": {},
   "outputs": [
    {
     "name": "stdout",
     "output_type": "stream",
     "text": [
      "False\n"
     ]
    }
   ],
   "source": [
    "true_love = Concept()\n",
    "\n",
    "print(true_love.exists)"
   ]
  }
 ],
 "metadata": {
  "kernelspec": {
   "display_name": "Python 3",
   "language": "python",
   "name": "python3"
  },
  "language_info": {
   "codemirror_mode": {
    "name": "ipython",
    "version": 3
   },
   "file_extension": ".py",
   "mimetype": "text/x-python",
   "name": "python",
   "nbconvert_exporter": "python",
   "pygments_lexer": "ipython3",
   "version": "3.6.0"
  }
 },
 "nbformat": 4,
 "nbformat_minor": 2
}
