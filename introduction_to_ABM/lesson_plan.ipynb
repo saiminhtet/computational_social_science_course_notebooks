{
 "cells": [
  {
   "cell_type": "markdown",
   "metadata": {},
   "source": [
    "# Day 1: Intro to Agent-Based Modeling\n",
    "\n",
    "Reading:\n",
    "- Macy and Willer \n",
    "- \"Why Agent-Based Modeling?\"\n",
    "\n",
    "This seminar will mainly consist of a basic introduction to the concepts\n",
    "\n",
    "First things first - figure out where the class is starting from:\n",
    "\n",
    "- Introduce Yourself\n",
    "    - Blah blah I'm Pierson I study games yes I know that's the coolest thing ever no big deal\n",
    "    - I'm not a great Python programmer\n",
    "\n",
    "\n",
    "- Learn about them a bit:\n",
    "    - Get some names!\n",
    "    - What departments are they from?\n",
    "    - What experience do they have with research methodology?\n",
    "    - What are the interested in?\n",
    "\n",
    "\n",
    "- How much do they know about Python?\n",
    "    - Do they know about Namespaces?\n",
    "    - Do they know about Classes?\n",
    "    - Do they know about Class Inheritence?\n",
    "    - Do they know special class methods such as __init__?\n",
    "\n",
    "\n",
    "- How much do they know about ABM?\n",
    "    - Can they describe what an ABM is?\n",
    "    - Have they heard of any before? Can they give examples?\n",
    "    - Why might an ABM be useful?\n",
    "    - Where do they stand in relation to other methods?\n",
    "    - When might an ABM be more appropriate than these other methods?\n",
    "    - Why, do you think, are they less well-known in (INSERT THEIR DISCIPLINE HERE)?\n",
    "\n"
   ]
  },
  {
   "cell_type": "markdown",
   "metadata": {},
   "source": [
    "# Day 2: Influential Agent-Based Models\n",
    "\n",
    "Reading:\n",
    "- \"What Is Agent-Based Modeling?\"\n",
    "- \"The Evolution of Trust\"\n",
    "\n",
    "This seminar will deal with influential applications of agent-based models in the Social Sciences; I'll structure the seminar around Axelrod's \"Evolution of Cooperation.\"\n",
    "\n"
   ]
  },
  {
   "cell_type": "markdown",
   "metadata": {},
   "source": [
    "# Day 3: Introducing the Schelling Segregation Model\n",
    "\n",
    "Reading:\n",
    "- \"Creating Simple Agent-Based Models\"\n",
    "\n",
    "Emphasize that Schelling's core contention is not that \"everyone is irredeemably racist,\" but rather that almost nobody wants to be a minority of 1: if they're the only person from their racial group in a given neighbourhood, the desire to move is understandable. \n",
    "\n",
    "\n",
    "- Schelling model, Part 1:\n",
    "    - Introduce Model\n",
    "    - Discuss background\n",
    "    - Discuss impact\n",
    "    - Show Schelling ABM code, run it, show output\n",
    "\n"
   ]
  },
  {
   "cell_type": "markdown",
   "metadata": {},
   "source": [
    "# Day 4: Expanding Upon the Schelling Segregation Model\n",
    "\n",
    "Reading:\n",
    "-  \"Exploring and Extending Agent-Based Models\"\n",
    "\n",
    "- Schelling model, Part 2:\n",
    "    - Playing around with parameters on the Schelling model - number of races, iterations, thresholds, empty spaces, etc.\n",
    "    - Could also use this time to introduce the Axelrod package for Python - also lets you toy around with that ABM at length\n",
    "\n"
   ]
  }
 ],
 "metadata": {
  "kernelspec": {
   "display_name": "Python 3",
   "language": "python",
   "name": "python3"
  },
  "language_info": {
   "codemirror_mode": {
    "name": "ipython",
    "version": 3
   },
   "file_extension": ".py",
   "mimetype": "text/x-python",
   "name": "python",
   "nbconvert_exporter": "python",
   "pygments_lexer": "ipython3",
   "version": "3.6.0"
  }
 },
 "nbformat": 4,
 "nbformat_minor": 2
}
