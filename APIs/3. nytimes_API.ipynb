{
 "cells": [
  {
   "cell_type": "markdown",
   "metadata": {},
   "source": [
    "# Putting it all Together\n",
    "\n",
    "So far, we have had exposure to working with requests library in Python. Using our knwoledge of APIs, we are going to use the NY Times API and collect a set of data. \n",
    "\n",
    "First step is to [sign up](https://developer.nytimes.com/signup) for getting an API key. I have selected Top Stories for the API key request. The key code is sent to you by email. \n",
    "\n",
    "See a [list](https://developer.nytimes.com/) of available APIs and pick the topic you are interested in as you follow through this tutorial. \n",
    "\n",
    "To understand how a request can be made (GET request) NY Times has made a [GUI interaface](https://developer.nytimes.com/top_stories_v2.json) available. \n",
    "\n",
    "1. Fetch data from NY Times API\n",
    "2. Load JSON data using requests\n",
    "3. parse nested JSON for title of article and data updated\n",
    "4. **Advanced** Use a visualization library of your choice, visually represent the data"
   ]
  },
  {
   "cell_type": "code",
   "execution_count": null,
   "metadata": {
    "collapsed": true
   },
   "outputs": [],
   "source": []
  }
 ],
 "metadata": {
  "kernelspec": {
   "display_name": "Python 3",
   "language": "python",
   "name": "python3"
  },
  "language_info": {
   "codemirror_mode": {
    "name": "ipython",
    "version": 3
   },
   "file_extension": ".py",
   "mimetype": "text/x-python",
   "name": "python",
   "nbconvert_exporter": "python",
   "pygments_lexer": "ipython3",
   "version": "3.6.3"
  }
 },
 "nbformat": 4,
 "nbformat_minor": 2
}
