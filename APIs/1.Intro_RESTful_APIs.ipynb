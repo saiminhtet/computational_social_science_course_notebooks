{
 "cells": [
  {
   "cell_type": "markdown",
   "metadata": {},
   "source": [
    "# Why use an API?\n",
    "\n",
    "API stands for Application Program Interface. APIs provides a cleaner and easier way to work with data sets. Below examples assume that RESTful APIs is to be used for the purposes of this course. \n"
   ]
  },
  {
   "cell_type": "markdown",
   "metadata": {},
   "source": [
    "# Using Crossref API and Familiarizing with JSON:\n",
    "\n",
    "Advantages of using this API is the unique Digital Object Identifiers (DOI) with Crossref. \n",
    "Visit [here](http://api.crossref.org/works/10.1093/nar/gni170) to view the JSON object used in this tutorial. \n",
    "\n",
    "JSON objects are fast to parse and as the user you can make it as flat or nested as you want. There are some helpful tools available on Google Chrome to make the viewing of a JSON object easier. Try [JSON Viewer](https://chrome.google.com/webstore/detail/json-viewer/gbmdgpbipfallnflgajpaliibnhdgobh)> \"manage extension\" > Check \"Allow Access to File URL\". This should JSONify the above URL.  \n"
   ]
  },
  {
   "cell_type": "code",
   "execution_count": 1,
   "metadata": {},
   "outputs": [
    {
     "name": "stdout",
     "output_type": "stream",
     "text": [
      "<Response [200]>\n"
     ]
    }
   ],
   "source": [
    "#using requests to fetch data \n",
    "import requests\n",
    "BASE_URL = \"http://api.crossref.org/\"\n",
    "\n",
    "doi = \"10.1093/nar/gni170\" #this can be a list of DOIs that can be iterated through as the url is constructed. \n",
    "query = \"works/\"\n",
    "url = BASE_URL + query + doi\n",
    "r = requests.get(url)\n",
    "print(r) #useful specially for debugging\n",
    "#r.status_code "
   ]
  },
  {
   "cell_type": "markdown",
   "metadata": {},
   "source": [
    "### Response Code\n",
    "The response code is an essential part of using RESTful APIs. Using a set of HTTP requests (GET, PUT, POST and DELETE), RESTful APIs transfer data across the web. The codes being returned after the HTTP requests can determine if any data was received or not. Getting a **200 response** as seen above means that the request was completed. Using r.status_code would have also returned the same information. \n",
    "\n",
    "Any __5**__ and __4**__ response code usually means that server has errored or client has errored respectively. "
   ]
  },
  {
   "cell_type": "code",
   "execution_count": 9,
   "metadata": {},
   "outputs": [
    {
     "data": {
      "text/plain": [
       "{'message': {'DOI': '10.1093/nar/gni170',\n",
       "  'ISSN': ['0305-1048', '1362-4962'],\n",
       "  'URL': 'http://dx.doi.org/10.1093/nar/gni170',\n",
       "  'author': [{'affiliation': [], 'family': 'Whiteford', 'given': 'N.'}],\n",
       "  'container-title': ['Nucleic Acids Research'],\n",
       "  'content-domain': {'crossmark-restriction': False, 'domain': []},\n",
       "  'created': {'date-parts': [[2005, 11, 18]],\n",
       "   'date-time': '2005-11-18T23:32:52Z',\n",
       "   'timestamp': 1132356772000},\n",
       "  'deposited': {'date-parts': [[2017, 8, 23]],\n",
       "   'date-time': '2017-08-23T21:00:10Z',\n",
       "   'timestamp': 1503522010000},\n",
       "  'indexed': {'date-parts': [[2017, 10, 25]],\n",
       "   'date-time': '2017-10-25T20:27:25Z',\n",
       "   'timestamp': 1508963245195},\n",
       "  'is-referenced-by-count': 55,\n",
       "  'issn-type': [{'type': 'print', 'value': '0305-1048'},\n",
       "   {'type': 'electronic', 'value': '1362-4962'}],\n",
       "  'issue': '19',\n",
       "  'issued': {'date-parts': [[2005, 10, 24]]},\n",
       "  'link': [{'URL': 'http://academic.oup.com/nar/article-pdf/33/19/e171/4133697/gni170.pdf',\n",
       "    'content-type': 'unspecified',\n",
       "    'content-version': 'vor',\n",
       "    'intended-application': 'similarity-checking'}],\n",
       "  'member': '286',\n",
       "  'original-title': [],\n",
       "  'page': 'e171-e171',\n",
       "  'prefix': '10.1093',\n",
       "  'published-print': {'date-parts': [[2005, 10, 24]]},\n",
       "  'publisher': 'Oxford University Press (OUP)',\n",
       "  'reference-count': 0,\n",
       "  'references-count': 0,\n",
       "  'relation': {},\n",
       "  'score': 1.0,\n",
       "  'short-container-title': ['Nucleic Acids Research'],\n",
       "  'short-title': [],\n",
       "  'source': 'Crossref',\n",
       "  'subject': ['Genetics'],\n",
       "  'subtitle': [],\n",
       "  'title': ['An analysis of the feasibility of short read sequencing'],\n",
       "  'type': 'journal-article',\n",
       "  'volume': '33'},\n",
       " 'message-type': 'work',\n",
       " 'message-version': '1.0.0',\n",
       " 'status': 'ok'}"
      ]
     },
     "execution_count": 9,
     "metadata": {},
     "output_type": "execute_result"
    }
   ],
   "source": [
    "#Since we know we are working with JSON data, use built in JSON decoder\n",
    "r.json()"
   ]
  },
  {
   "cell_type": "markdown",
   "metadata": {},
   "source": [
    "The above response in a JSON object can be assigned to a Python dictionary for further manipulation if needed. To continue working with JSON file format in Python, feel free to learn more about useful libraries like [json]('https://docs.python.org/3/library/json.html') for fast data manipulation. "
   ]
  },
  {
   "cell_type": "markdown",
   "metadata": {},
   "source": []
  }
 ],
 "metadata": {
  "kernelspec": {
   "display_name": "Python 3",
   "language": "python",
   "name": "python3"
  },
  "language_info": {
   "codemirror_mode": {
    "name": "ipython",
    "version": 3
   },
   "file_extension": ".py",
   "mimetype": "text/x-python",
   "name": "python",
   "nbconvert_exporter": "python",
   "pygments_lexer": "ipython3",
   "version": "3.6.3"
  }
 },
 "nbformat": 4,
 "nbformat_minor": 2
}
