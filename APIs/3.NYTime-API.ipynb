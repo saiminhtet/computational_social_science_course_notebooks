{
 "cells": [
  {
   "cell_type": "markdown",
   "metadata": {},
   "source": [
    "# NY Times API \n",
    "\n",
    "So far, we have had exposure to working with requests library in Python. Using our knwoledge of APIs, we are going to use the NY Times API and collect a set of data.Please note that the NY Times API will not return full text for available news article. However, it will provide us with useful metadata such as subject terms, abstract, and updated-date, urls to images, and any other information a developer might seek when scraping the site. \n",
    "\n",
    "The main steps for this tutotal are the following:\n",
    "1. Fetch data from NY Times API\n",
    "2. Load JSON data using requests\n",
    "3. parse nested JSON for title of article and data updated\n",
    "4. **Advanced**: Use a visualization library of your choice, visually represent the data. \n",
    "\n",
    "First step is to [sign up](https://developer.nytimes.com/signup) for getting an API key. Take a moment to look through the link. Notice that the available api-key requests are separated by the _type_ of request. This is helpful for us as developers but it also provides user meta data to NY Times. For example, client metadata from api-key requests can be used by NY Times for analysis ([BIA](https://en.wikipedia.org/wiki/Business_intelligence)), building future APIs, improving existing ones, or providing additional API wrappers. In an organizational setting, generated meta data from the client side is just as important as receiving data from the server. User data has helped NY Times improve its developer tools such as providing new APIs, corresponding wrappers, and improving data accessibility. \n",
    "\n",
    "In the sign-up page, fill out your information to receive your api-key. For the purposes of this tutorial, the Top Stories API key was requested and used. Feel free to pick any of the other available APIs. See a [list](https://developer.nytimes.com/) of available APIs to follow through this tutorial. Once you have received the api key in your e-mail, store it as a variable in your python script. \n",
    "\n",
    "One of the main reasons the NY Times was selected for the purposes of this course is to receive a visual understanding between dynamic vs. static componenet of URL parameters. Dynamic components are aspects of the URL that can be changed as new information is needed. The static component is part of the base URL and no matter how much the requested information changes, the base part of it usually does not change. To understand the static and dynamic components of the URL in relation to making GET request, NY Times has made a helpful [GUI interface](https://developer.nytimes.com/top_stories_v2.json) available. \n",
    "\n",
    "For this notebook the following modules will be used:"
   ]
  },
  {
   "cell_type": "code",
   "execution_count": 1,
   "metadata": {
    "collapsed": true
   },
   "outputs": [],
   "source": [
    "import requests\n",
    "import pandas as pd\n",
    "import json\n",
    "import networkx\n",
    "import sys"
   ]
  },
  {
   "cell_type": "markdown",
   "metadata": {},
   "source": [
    "## 1. Fetching Data\n",
    "After importing the required modules, retrieving the necessary API key, choose a parameter you want to work with. This can be a single parameter (e.g. politics) or a list of parameters you want to iterate through as you construct your url. For the purposes of simplicity, I have chosen a single parameter. "
   ]
  },
  {
   "cell_type": "code",
   "execution_count": 2,
   "metadata": {},
   "outputs": [
    {
     "name": "stdout",
     "output_type": "stream",
     "text": [
      "https://api.nytimes.com/svc/topstories/v2/politics.json?q=&api-key=a1b6d14c03494629990937518357c475\n"
     ]
    }
   ],
   "source": [
    "#sign up and get a key -- I chose Top Stories\n",
    "key = \"a1b6d14c03494629990937518357c475\"\n",
    "# within Top Stories, there are list of parameters to work with. Choose one param or a list of params to iterate through. \n",
    "url = 'https://api.nytimes.com/svc/topstories/v2/politics.json?q=&api-key=%s' % key\n",
    "print(url)"
   ]
  },
  {
   "cell_type": "markdown",
   "metadata": {},
   "source": [
    "## 2. Load the Data as a JSON\n",
    "\n",
    "Now that we have constructed our url, feel free to visit and view JSON object you will be requesting in the next section. A [GET](https://developer.mozilla.org/en-US/docs/Web/HTTP/Methods/GET) request is performed. Error handling is also put in place for this section to ensure the right object is returned. This prevents confusion later on in the code because the json object loaded and returned gets used in part 3 and 4. "
   ]
  },
  {
   "cell_type": "code",
   "execution_count": 3,
   "metadata": {},
   "outputs": [
    {
     "name": "stdout",
     "output_type": "stream",
     "text": [
      "{'status': 'OK', 'copyright': 'Copyright (c) 2018 The New York Times Company. All Rights Reserved.', 'section': 'politics', 'last_updated': '2018-01-20T20:47:58-05:00', 'num_results': 12, 'results': [{'section': 'U.S.', 'subsection': 'Politics', 'title': 'Bitter Bickering Muddies the Path to Ending the Government Shutdown', 'abstract': 'With the government shut down and the two parties faulting each other, senators from both parties were looking for an agreement to end the crisis.', 'url': 'https://www.nytimes.com/2018/01/20/us/politics/government-shutdown-budget-talks.html', 'byline': 'By THOMAS KAPLAN and SHERYL GAY STOLBERG', 'item_type': 'Article', 'updated_date': '2018-01-20T19:53:12-05:00', 'created_date': '2018-01-20T11:07:56-05:00', 'published_date': '2018-01-20T11:07:56-05:00', 'material_type_facet': '', 'kicker': '', 'des_facet': ['United States Politics and Government', 'Shutdowns (Institutional)', 'Deferred Action for Childhood Arrivals'], 'org_facet': ['Senate'], 'per_facet': ['Trump, Donald J'], 'geo_facet': [], 'multimedia': [], 'short_url': 'https://nyti.ms/2FUJnzY'}, {'section': 'U.S.', 'subsection': 'Politics', 'title': 'Open, Closed or Something in Between: What a Shutdown Looks Like', 'abstract': 'The vast machinery of the federal government began grinding to a halt, but much of the bureaucracy will stay in motion for a while.', 'url': 'https://www.nytimes.com/2018/01/20/us/politics/government-agencies-shutdown.html', 'byline': 'By MARK LANDLER', 'item_type': 'Article', 'updated_date': '2018-01-20T15:40:26-05:00', 'created_date': '2018-01-20T15:04:41-05:00', 'published_date': '2018-01-20T15:04:41-05:00', 'material_type_facet': '', 'kicker': '', 'des_facet': ['Shutdowns (Institutional)', 'United States Politics and Government'], 'org_facet': ['Democratic Party', 'Senate'], 'per_facet': [], 'geo_facet': [], 'multimedia': [{'url': 'https://static01.nyt.com/images/2018/01/21/us/21dc-economy-sub/21dc-shutdown-2-thumbStandard.jpg', 'format': 'Standard Thumbnail', 'height': 75, 'width': 75, 'type': 'image', 'subtype': 'photo', 'caption': 'A sign announcing the closing of the Statue of Liberty because of the government shutdown.', 'copyright': 'Andrew Kelly/Reuters'}, {'url': 'https://static01.nyt.com/images/2018/01/21/us/21dc-economy-sub/21dc-shutdown-2-thumbLarge.jpg', 'format': 'thumbLarge', 'height': 150, 'width': 150, 'type': 'image', 'subtype': 'photo', 'caption': 'A sign announcing the closing of the Statue of Liberty because of the government shutdown.', 'copyright': 'Andrew Kelly/Reuters'}, {'url': 'https://static01.nyt.com/images/2018/01/21/us/21dc-economy-sub/merlin_132572873_d11d1663-666a-4473-802f-036ff6cd27a8-articleInline.jpg', 'format': 'Normal', 'height': 127, 'width': 190, 'type': 'image', 'subtype': 'photo', 'caption': 'A sign announcing the closing of the Statue of Liberty because of the government shutdown.', 'copyright': 'Andrew Kelly/Reuters'}, {'url': 'https://static01.nyt.com/images/2018/01/21/us/21dc-economy-sub/21dc-shutdown-2-mediumThreeByTwo210.jpg', 'format': 'mediumThreeByTwo210', 'height': 140, 'width': 210, 'type': 'image', 'subtype': 'photo', 'caption': 'A sign announcing the closing of the Statue of Liberty because of the government shutdown.', 'copyright': 'Andrew Kelly/Reuters'}, {'url': 'https://static01.nyt.com/images/2018/01/21/us/21dc-economy-sub/merlin_132572873_d11d1663-666a-4473-802f-036ff6cd27a8-superJumbo.jpg', 'format': 'superJumbo', 'height': 1366, 'width': 2048, 'type': 'image', 'subtype': 'photo', 'caption': 'A sign announcing the closing of the Statue of Liberty because of the government shutdown.', 'copyright': 'Andrew Kelly/Reuters'}], 'short_url': 'https://nyti.ms/2FVc8MW'}, {'section': 'U.S.', 'subsection': 'Politics', 'title': 'After Vowing to Fix Washington, Trump Is Mired in a Familiar Crisis', 'abstract': 'Immigration policy, the issue that propelled President Trump’s political rise, snarled negotiations to avert a government shutdown.', 'url': 'https://www.nytimes.com/2018/01/20/us/politics/trump-shutdown.html', 'byline': 'By JULIE HIRSCHFELD DAVIS and MAGGIE HABERMAN', 'item_type': 'Article', 'updated_date': '2018-01-20T20:21:06-05:00', 'created_date': '2018-01-20T07:48:23-05:00', 'published_date': '2018-01-20T07:48:23-05:00', 'material_type_facet': '', 'kicker': '', 'des_facet': ['Shutdowns (Institutional)', 'United States Politics and Government', 'Illegal Immigration'], 'org_facet': [], 'per_facet': ['Trump, Donald J'], 'geo_facet': [], 'multimedia': [{'url': 'https://static01.nyt.com/images/2018/01/21/world/europe/21dc-trump/21dc-trump-thumbStandard.jpg', 'format': 'Standard Thumbnail', 'height': 75, 'width': 75, 'type': 'image', 'subtype': 'photo', 'caption': 'President Trump opted not to accept a deal that he and Senator Chuck Schumer of New York, the top Senate Democrat, had hashed at the White House on Friday.', 'copyright': 'Al Drago for The New York Times'}, {'url': 'https://static01.nyt.com/images/2018/01/21/world/europe/21dc-trump/21dc-trump-thumbLarge.jpg', 'format': 'thumbLarge', 'height': 150, 'width': 150, 'type': 'image', 'subtype': 'photo', 'caption': 'President Trump opted not to accept a deal that he and Senator Chuck Schumer of New York, the top Senate Democrat, had hashed at the White House on Friday.', 'copyright': 'Al Drago for The New York Times'}, {'url': 'https://static01.nyt.com/images/2018/01/21/world/europe/21dc-trump/merlin_132526889_b698acb7-ef65-4382-a3d9-e2f6b8627e8d-articleInline.jpg', 'format': 'Normal', 'height': 127, 'width': 190, 'type': 'image', 'subtype': 'photo', 'caption': 'President Trump opted not to accept a deal that he and Senator Chuck Schumer of New York, the top Senate Democrat, had hashed at the White House on Friday.', 'copyright': 'Al Drago for The New York Times'}, {'url': 'https://static01.nyt.com/images/2018/01/21/world/europe/21dc-trump/merlin_132526889_b698acb7-ef65-4382-a3d9-e2f6b8627e8d-mediumThreeByTwo210.jpg', 'format': 'mediumThreeByTwo210', 'height': 140, 'width': 210, 'type': 'image', 'subtype': 'photo', 'caption': 'President Trump opted not to accept a deal that he and Senator Chuck Schumer of New York, the top Senate Democrat, had hashed at the White House on Friday.', 'copyright': 'Al Drago for The New York Times'}, {'url': 'https://static01.nyt.com/images/2018/01/21/world/europe/21dc-trump/merlin_132526889_b698acb7-ef65-4382-a3d9-e2f6b8627e8d-superJumbo.jpg', 'format': 'superJumbo', 'height': 1366, 'width': 2048, 'type': 'image', 'subtype': 'photo', 'caption': 'President Trump opted not to accept a deal that he and Senator Chuck Schumer of New York, the top Senate Democrat, had hashed at the White House on Friday.', 'copyright': 'Al Drago for The New York Times'}], 'short_url': 'https://nyti.ms/2Dl0r09'}, {'section': 'U.S.', 'subsection': 'Politics', 'title': 'Trump Appointee Resigns and Apologizes for Racist Comments', 'abstract': 'Carl Higbie stepped down from the Corporation for National and Community Service after CNN revealed his disparaging remarks about black people, Muslims and others.', 'url': 'https://www.nytimes.com/2018/01/20/us/politics/carl-higbie-resigns.html', 'byline': 'By CHRISTINA CARON', 'item_type': 'Article', 'updated_date': '2018-01-20T17:09:17-05:00', 'created_date': '2018-01-20T17:09:16-05:00', 'published_date': '2018-01-20T17:09:16-05:00', 'material_type_facet': '', 'kicker': '', 'des_facet': ['United States Politics and Government', 'Appointments and Executive Changes', 'Discrimination'], 'org_facet': ['Corp for National and Community Service'], 'per_facet': ['Trump, Donald J', 'Carl Higbie'], 'geo_facet': [], 'multimedia': [{'url': 'https://static01.nyt.com/images/2018/01/21/us/21xp-higbie/21xp-higbie-thumbStandard.jpg', 'format': 'Standard Thumbnail', 'height': 75, 'width': 75, 'type': 'image', 'subtype': 'photo', 'caption': 'Carl Higbie resigned on Thursday as chief of external affairs for the Corporation for National and Community Service after it was revealed he made disparaging remarks about black people, Muslims, gays and lesbians.', 'copyright': 'Michael Cummo/Hearst Connecticut Media'}, {'url': 'https://static01.nyt.com/images/2018/01/21/us/21xp-higbie/21xp-higbie-thumbLarge.jpg', 'format': 'thumbLarge', 'height': 150, 'width': 150, 'type': 'image', 'subtype': 'photo', 'caption': 'Carl Higbie resigned on Thursday as chief of external affairs for the Corporation for National and Community Service after it was revealed he made disparaging remarks about black people, Muslims, gays and lesbians.', 'copyright': 'Michael Cummo/Hearst Connecticut Media'}, {'url': 'https://static01.nyt.com/images/2018/01/21/us/21xp-higbie/21xp-higbie-articleInline.jpg', 'format': 'Normal', 'height': 127, 'width': 190, 'type': 'image', 'subtype': 'photo', 'caption': 'Carl Higbie resigned on Thursday as chief of external affairs for the Corporation for National and Community Service after it was revealed he made disparaging remarks about black people, Muslims, gays and lesbians.', 'copyright': 'Michael Cummo/Hearst Connecticut Media'}, {'url': 'https://static01.nyt.com/images/2018/01/21/us/21xp-higbie/21xp-higbie-mediumThreeByTwo210.jpg', 'format': 'mediumThreeByTwo210', 'height': 140, 'width': 210, 'type': 'image', 'subtype': 'photo', 'caption': 'Carl Higbie resigned on Thursday as chief of external affairs for the Corporation for National and Community Service after it was revealed he made disparaging remarks about black people, Muslims, gays and lesbians.', 'copyright': 'Michael Cummo/Hearst Connecticut Media'}, {'url': 'https://static01.nyt.com/images/2018/01/21/us/21xp-higbie/21xp-higbie-superJumbo.jpg', 'format': 'superJumbo', 'height': 1366, 'width': 2048, 'type': 'image', 'subtype': 'photo', 'caption': 'Carl Higbie resigned on Thursday as chief of external affairs for the Corporation for National and Community Service after it was revealed he made disparaging remarks about black people, Muslims, gays and lesbians.', 'copyright': 'Michael Cummo/Hearst Connecticut Media'}], 'short_url': 'https://nyti.ms/2FYYf0k'}, {'section': 'U.S.', 'subsection': 'Politics', 'title': 'Patrick Meehan’s Response to The Times’s Article on His Settlement for Misconduct', 'abstract': 'Representative Patrick Meehan, Republican of Pennsylvania, released this statement in response to an article about a settlement using public funds for misconduct.', 'url': 'https://www.nytimes.com/2018/01/20/us/politics/patrick-meehan-response-misconduct.html', 'byline': '', 'item_type': 'Article', 'updated_date': '2018-01-20T16:27:07-05:00', 'created_date': '2018-01-20T16:01:04-05:00', 'published_date': '2018-01-20T16:01:04-05:00', 'material_type_facet': '', 'kicker': '', 'des_facet': ['United States Politics and Government'], 'org_facet': [], 'per_facet': [], 'geo_facet': [], 'multimedia': [{'url': 'https://static01.nyt.com/images/2018/01/21/us/21dc-meehanresponse/21dc-meehanresponse-thumbStandard.jpg', 'format': 'Standard Thumbnail', 'height': 75, 'width': 75, 'type': 'image', 'subtype': 'photo', 'caption': 'Representative Patrick Meehan, Republican of Pennsylvania, used taxpayer money to pay a former aide who had seen him as a father figure before she said he made unwanted advances.', 'copyright': 'Doug Mills/The New York Time'}, {'url': 'https://static01.nyt.com/images/2018/01/21/us/21dc-meehanresponse/21dc-meehanresponse-thumbLarge.jpg', 'format': 'thumbLarge', 'height': 150, 'width': 150, 'type': 'image', 'subtype': 'photo', 'caption': 'Representative Patrick Meehan, Republican of Pennsylvania, used taxpayer money to pay a former aide who had seen him as a father figure before she said he made unwanted advances.', 'copyright': 'Doug Mills/The New York Time'}, {'url': 'https://static01.nyt.com/images/2018/01/21/us/21dc-meehanresponse/merlin_132480786_5ba5d7bf-84ed-44b7-8329-cbcea33c4242-articleInline.jpg', 'format': 'Normal', 'height': 129, 'width': 190, 'type': 'image', 'subtype': 'photo', 'caption': 'Representative Patrick Meehan, Republican of Pennsylvania, used taxpayer money to pay a former aide who had seen him as a father figure before she said he made unwanted advances.', 'copyright': 'Doug Mills/The New York Time'}, {'url': 'https://static01.nyt.com/images/2018/01/21/us/21dc-meehanresponse/21dc-meehanresponse-mediumThreeByTwo210.jpg', 'format': 'mediumThreeByTwo210', 'height': 140, 'width': 210, 'type': 'image', 'subtype': 'photo', 'caption': 'Representative Patrick Meehan, Republican of Pennsylvania, used taxpayer money to pay a former aide who had seen him as a father figure before she said he made unwanted advances.', 'copyright': 'Doug Mills/The New York Time'}, {'url': 'https://static01.nyt.com/images/2018/01/21/us/21dc-meehanresponse/merlin_132480786_5ba5d7bf-84ed-44b7-8329-cbcea33c4242-superJumbo.jpg', 'format': 'superJumbo', 'height': 1387, 'width': 2048, 'type': 'image', 'subtype': 'photo', 'caption': 'Representative Patrick Meehan, Republican of Pennsylvania, used taxpayer money to pay a former aide who had seen him as a father figure before she said he made unwanted advances.', 'copyright': 'Doug Mills/The New York Time'}], 'short_url': 'https://nyti.ms/2Dmz3zb'}, {'section': 'U.S.', 'subsection': 'Politics', 'title': 'The Longer It Lasts, the More a Shutdown Could Hurt the Economy', 'abstract': 'The early days of the federal government shutdown won’t slow the American economy much, but that could change if the impasse drags out.', 'url': 'https://www.nytimes.com/2018/01/20/us/politics/economy-government-shutdown.html', 'byline': 'By PATRICIA COHEN and JIM TANKERSLEY', 'item_type': 'Article', 'updated_date': '2018-01-20T15:59:21-05:00', 'created_date': '2018-01-20T15:50:31-05:00', 'published_date': '2018-01-20T15:50:31-05:00', 'material_type_facet': '', 'kicker': '', 'des_facet': ['Shutdowns (Institutional)', 'United States Economy', 'Government Contracts and Procurement', 'Stocks and Bonds'], 'org_facet': ['Bureau of Economic Analysis', 'Congressional Research Service', 'White House Council of Economic Advisers'], 'per_facet': [], 'geo_facet': [], 'multimedia': [{'url': 'https://static01.nyt.com/images/2018/01/21/us/21shutdown-econ/21shutdown-econ-thumbStandard.jpg', 'format': 'Standard Thumbnail', 'height': 75, 'width': 75, 'type': 'image', 'subtype': 'photo', 'caption': 'A room for Senate appropriations remained empty on Saturday during the shutdown.', 'copyright': 'Erin Schaff for The New York Times'}, {'url': 'https://static01.nyt.com/images/2018/01/21/us/21shutdown-econ/21shutdown-econ-thumbLarge.jpg', 'format': 'thumbLarge', 'height': 150, 'width': 150, 'type': 'image', 'subtype': 'photo', 'caption': 'A room for Senate appropriations remained empty on Saturday during the shutdown.', 'copyright': 'Erin Schaff for The New York Times'}, {'url': 'https://static01.nyt.com/images/2018/01/21/us/21shutdown-econ/21shutdown-econ-articleInline.jpg', 'format': 'Normal', 'height': 127, 'width': 190, 'type': 'image', 'subtype': 'photo', 'caption': 'A room for Senate appropriations remained empty on Saturday during the shutdown.', 'copyright': 'Erin Schaff for The New York Times'}, {'url': 'https://static01.nyt.com/images/2018/01/21/us/21shutdown-econ/21shutdown-econ-mediumThreeByTwo210.jpg', 'format': 'mediumThreeByTwo210', 'height': 140, 'width': 210, 'type': 'image', 'subtype': 'photo', 'caption': 'A room for Senate appropriations remained empty on Saturday during the shutdown.', 'copyright': 'Erin Schaff for The New York Times'}, {'url': 'https://static01.nyt.com/images/2018/01/21/us/21shutdown-econ/21shutdown-econ-superJumbo.jpg', 'format': 'superJumbo', 'height': 1365, 'width': 2048, 'type': 'image', 'subtype': 'photo', 'caption': 'A room for Senate appropriations remained empty on Saturday during the shutdown.', 'copyright': 'Erin Schaff for The New York Times'}], 'short_url': 'https://nyti.ms/2G1ucoD'}, {'section': 'U.S.', 'subsection': 'Politics', 'title': 'Congressman Combating Harassment Settled His Own Misconduct Case', 'abstract': 'Representative Patrick Meehan, a Republican member of the House Ethics Committee, used taxpayer money to pay a former aide who had seen him as a father figure before he made unwanted advances.', 'url': 'https://www.nytimes.com/2018/01/20/us/politics/patrick-meehan-sexual-harassment.html', 'byline': 'By KATIE ROGERS and KENNETH P. VOGEL', 'item_type': 'Article', 'updated_date': '2018-01-20T17:21:29-05:00', 'created_date': '2018-01-20T13:47:44-05:00', 'published_date': '2018-01-20T13:47:44-05:00', 'material_type_facet': '', 'kicker': '', 'des_facet': ['Sexual Harassment', 'United States Politics and Government', 'Workplace Hazards and Violations', '#MeToo Movement', 'Ethics and Official Misconduct'], 'org_facet': ['House of Representatives'], 'per_facet': ['Meehan, Patrick L'], 'geo_facet': ['Pennsylvania'], 'multimedia': [{'url': 'https://static01.nyt.com/images/2018/01/21/us/politics/21dc-meehan1/21dc-meehan1-thumbStandard.jpg', 'format': 'Standard Thumbnail', 'height': 75, 'width': 75, 'type': 'image', 'subtype': 'photo', 'caption': 'Representative Patrick Meehan, Republican of Pennsylvania, traveled with President Trump to the state on Thursday.', 'copyright': 'Doug Mills/The New York Times'}, {'url': 'https://static01.nyt.com/images/2018/01/21/us/politics/21dc-meehan1/21dc-meehan1-thumbLarge.jpg', 'format': 'thumbLarge', 'height': 150, 'width': 150, 'type': 'image', 'subtype': 'photo', 'caption': 'Representative Patrick Meehan, Republican of Pennsylvania, traveled with President Trump to the state on Thursday.', 'copyright': 'Doug Mills/The New York Times'}, {'url': 'https://static01.nyt.com/images/2018/01/21/us/politics/21dc-meehan1/merlin_132484743_b0484e35-be88-4a17-93f3-c40858028014-articleInline.jpg', 'format': 'Normal', 'height': 127, 'width': 190, 'type': 'image', 'subtype': 'photo', 'caption': 'Representative Patrick Meehan, Republican of Pennsylvania, traveled with President Trump to the state on Thursday.', 'copyright': 'Doug Mills/The New York Times'}, {'url': 'https://static01.nyt.com/images/2018/01/21/us/politics/21dc-meehan1/21dc-meehan1-mediumThreeByTwo210.jpg', 'format': 'mediumThreeByTwo210', 'height': 140, 'width': 210, 'type': 'image', 'subtype': 'photo', 'caption': 'Representative Patrick Meehan, Republican of Pennsylvania, traveled with President Trump to the state on Thursday.', 'copyright': 'Doug Mills/The New York Times'}, {'url': 'https://static01.nyt.com/images/2018/01/21/us/politics/21dc-meehan1/merlin_132484743_b0484e35-be88-4a17-93f3-c40858028014-superJumbo.jpg', 'format': 'superJumbo', 'height': 1365, 'width': 2048, 'type': 'image', 'subtype': 'photo', 'caption': 'Representative Patrick Meehan, Republican of Pennsylvania, traveled with President Trump to the state on Thursday.', 'copyright': 'Doug Mills/The New York Times'}], 'short_url': 'https://nyti.ms/2FYcJ0d'}, {'section': 'Style', 'subsection': '', 'title': 'The National Rifle Association’s Telegenic Warrior', 'abstract': 'How Dana Loesch, a onetime Democrat, became a Second Amendment spokeswoman too incendiary for some right-wingers to handle.', 'url': 'https://www.nytimes.com/2018/01/20/style/dana-loesch-national-rifle-association.html', 'byline': 'By LAURA M. HOLSON', 'item_type': 'Article', 'updated_date': '2018-01-20T06:00:35-05:00', 'created_date': '2018-01-20T06:00:34-05:00', 'published_date': '2018-01-20T06:00:34-05:00', 'material_type_facet': '', 'kicker': '', 'des_facet': ['Firearms'], 'org_facet': ['National Rifle Assn'], 'per_facet': ['Loesch, Dana'], 'geo_facet': [], 'multimedia': [{'url': 'https://static01.nyt.com/images/2018/01/21/fashion/21LOESCH1/21LOESCH1-thumbStandard.jpg', 'format': 'Standard Thumbnail', 'height': 75, 'width': 75, 'type': 'image', 'subtype': 'photo', 'caption': 'Dana Loesch, a conservative political commentator, at a gun range at Crossfire Defense Academy &amp; Range in Flower Mound, Tex.', 'copyright': 'Allison V. Smith for The New York Times'}, {'url': 'https://static01.nyt.com/images/2018/01/21/fashion/21LOESCH1/21LOESCH1-thumbLarge.jpg', 'format': 'thumbLarge', 'height': 150, 'width': 150, 'type': 'image', 'subtype': 'photo', 'caption': 'Dana Loesch, a conservative political commentator, at a gun range at Crossfire Defense Academy &amp; Range in Flower Mound, Tex.', 'copyright': 'Allison V. Smith for The New York Times'}, {'url': 'https://static01.nyt.com/images/2018/01/21/fashion/21LOESCH1/21LOESCH1-articleInline.jpg', 'format': 'Normal', 'height': 127, 'width': 190, 'type': 'image', 'subtype': 'photo', 'caption': 'Dana Loesch, a conservative political commentator, at a gun range at Crossfire Defense Academy &amp; Range in Flower Mound, Tex.', 'copyright': 'Allison V. Smith for The New York Times'}, {'url': 'https://static01.nyt.com/images/2018/01/21/fashion/21LOESCH1/21LOESCH1-mediumThreeByTwo210.jpg', 'format': 'mediumThreeByTwo210', 'height': 140, 'width': 210, 'type': 'image', 'subtype': 'photo', 'caption': 'Dana Loesch, a conservative political commentator, at a gun range at Crossfire Defense Academy &amp; Range in Flower Mound, Tex.', 'copyright': 'Allison V. Smith for The New York Times'}, {'url': 'https://static01.nyt.com/images/2018/01/21/fashion/21LOESCH1/21LOESCH1-superJumbo.jpg', 'format': 'superJumbo', 'height': 1365, 'width': 2048, 'type': 'image', 'subtype': 'photo', 'caption': 'Dana Loesch, a conservative political commentator, at a gun range at Crossfire Defense Academy &amp; Range in Flower Mound, Tex.', 'copyright': 'Allison V. Smith for The New York Times'}], 'short_url': 'https://nyti.ms/2Doz85n'}, {'section': 'U.S.', 'subsection': 'Politics', 'title': 'Approaching Shutdown:Scenes From the Capital', 'abstract': 'This week, only the tours went according to plan.', 'url': 'https://www.nytimes.com/2018/01/20/us/politics/scenes-government-shutdown.html', 'byline': 'By TANNER CURTIS', 'item_type': 'Article', 'updated_date': '2018-01-20T01:55:43-05:00', 'created_date': '2018-01-20T01:55:43-05:00', 'published_date': '2018-01-20T01:55:43-05:00', 'material_type_facet': '', 'kicker': '', 'des_facet': ['United States Politics and Government', 'Shutdowns (Institutional)', 'Politics and Government', 'Law and Legislation'], 'org_facet': ['Senate'], 'per_facet': [], 'geo_facet': [], 'multimedia': [{'url': 'https://static01.nyt.com/images/2018/01/20/us/20dc-scene6/20dc-scene6-thumbStandard.jpg', 'format': 'Standard Thumbnail', 'height': 75, 'width': 75, 'type': 'image', 'subtype': 'photo', 'caption': '', 'copyright': 'Tom Brenner/The New York Times'}, {'url': 'https://static01.nyt.com/images/2018/01/20/us/20dc-scene6/20dc-scene6-thumbLarge.jpg', 'format': 'thumbLarge', 'height': 150, 'width': 150, 'type': 'image', 'subtype': 'photo', 'caption': '', 'copyright': 'Tom Brenner/The New York Times'}, {'url': 'https://static01.nyt.com/images/2018/01/20/us/20dc-scene6/20dc-scene6-articleInline.jpg', 'format': 'Normal', 'height': 127, 'width': 190, 'type': 'image', 'subtype': 'photo', 'caption': '', 'copyright': 'Tom Brenner/The New York Times'}, {'url': 'https://static01.nyt.com/images/2018/01/20/us/20dc-scene6/20dc-scene6-mediumThreeByTwo210.jpg', 'format': 'mediumThreeByTwo210', 'height': 140, 'width': 210, 'type': 'image', 'subtype': 'photo', 'caption': '', 'copyright': 'Tom Brenner/The New York Times'}, {'url': 'https://static01.nyt.com/images/2018/01/20/us/20dc-scene6/20dc-scene6-superJumbo.jpg', 'format': 'superJumbo', 'height': 1365, 'width': 2048, 'type': 'image', 'subtype': 'photo', 'caption': '', 'copyright': 'Tom Brenner/The New York Times'}], 'short_url': 'https://nyti.ms/2DhYwtl'}, {'section': 'U.S.', 'subsection': '', 'title': 'Neighbor to Plead Guilty to Federal Charge in Attack on Rand Paul, Lawyer Says', 'abstract': 'Rene A. Boucher of Bowling Green, Ky., is expected to plead guilty in federal court, where prosecutors will seek a sentence of up to 21 months, his lawyer said.', 'url': 'https://www.nytimes.com/2018/01/19/us/rand-paul-assault.html', 'byline': 'By CHRISTOPHER MELE', 'item_type': 'Article', 'updated_date': '2018-01-19T20:39:08-05:00', 'created_date': '2018-01-19T20:39:08-05:00', 'published_date': '2018-01-19T20:39:08-05:00', 'material_type_facet': '', 'kicker': '', 'des_facet': ['Assaults', 'United States Politics and Government'], 'org_facet': ['Senate'], 'per_facet': ['Paul, Rand', 'Boucher, Rene (1958- )'], 'geo_facet': ['Bowling Green (Ky)', 'Kentucky'], 'multimedia': [{'url': 'https://static01.nyt.com/images/2017/12/08/us/20xp-Rand1/20xp-Rand1--thumbStandard-v2.jpg', 'format': 'Standard Thumbnail', 'height': 75, 'width': 75, 'type': 'image', 'subtype': 'photo', 'caption': 'Rene A. Boucher, center, was charged on Friday with assaulting a member of Congress resulting in personal injury, a federal felony, in connection with an attack of Senator Rand Paul in November.', 'copyright': 'Austin Anthony/Daily News, via Associated Press'}, {'url': 'https://static01.nyt.com/images/2017/12/08/us/20xp-Rand1/20xp-Rand1--thumbLarge-v2.jpg', 'format': 'thumbLarge', 'height': 150, 'width': 150, 'type': 'image', 'subtype': 'photo', 'caption': 'Rene A. Boucher, center, was charged on Friday with assaulting a member of Congress resulting in personal injury, a federal felony, in connection with an attack of Senator Rand Paul in November.', 'copyright': 'Austin Anthony/Daily News, via Associated Press'}, {'url': 'https://static01.nyt.com/images/2017/12/08/us/20xp-Rand1/08wwr5-articleInline.jpg', 'format': 'Normal', 'height': 135, 'width': 190, 'type': 'image', 'subtype': 'photo', 'caption': 'Rene A. Boucher, center, was charged on Friday with assaulting a member of Congress resulting in personal injury, a federal felony, in connection with an attack of Senator Rand Paul in November.', 'copyright': 'Austin Anthony/Daily News, via Associated Press'}, {'url': 'https://static01.nyt.com/images/2017/12/08/us/20xp-Rand1/08wwr5-mediumThreeByTwo210.jpg', 'format': 'mediumThreeByTwo210', 'height': 140, 'width': 210, 'type': 'image', 'subtype': 'photo', 'caption': 'Rene A. Boucher, center, was charged on Friday with assaulting a member of Congress resulting in personal injury, a federal felony, in connection with an attack of Senator Rand Paul in November.', 'copyright': 'Austin Anthony/Daily News, via Associated Press'}, {'url': 'https://static01.nyt.com/images/2017/12/08/us/20xp-Rand1/08wwr5-superJumbo.jpg', 'format': 'superJumbo', 'height': 1453, 'width': 2048, 'type': 'image', 'subtype': 'photo', 'caption': 'Rene A. Boucher, center, was charged on Friday with assaulting a member of Congress resulting in personal injury, a federal felony, in connection with an attack of Senator Rand Paul in November.', 'copyright': 'Austin Anthony/Daily News, via Associated Press'}], 'short_url': 'https://nyti.ms/2Dj8HxL'}, {'section': 'U.S.', 'subsection': 'Politics', 'title': 'How Trump and Schumer Came Close to a Deal Over Cheeseburgers', 'abstract': 'The deal fell apart later in the day when the president and his chief of staff wanted more concessions on immigration.', 'url': 'https://www.nytimes.com/2018/01/19/us/politics/trump-government-shutdown.html', 'byline': 'By MICHAEL D. SHEAR and MAGGIE HABERMAN', 'item_type': 'Article', 'updated_date': '2018-01-20T01:18:04-05:00', 'created_date': '2018-01-19T20:29:52-05:00', 'published_date': '2018-01-19T20:29:52-05:00', 'material_type_facet': '', 'kicker': '', 'des_facet': ['United States Politics and Government', 'Shutdowns (Institutional)', 'Federal Budget (US)', 'Deferred Action for Childhood Arrivals', 'Immigration and Emigration'], 'org_facet': [], 'per_facet': ['Trump, Donald J', 'Schumer, Charles E'], 'geo_facet': [], 'multimedia': [{'url': 'https://static01.nyt.com/images/2018/01/20/us/politics/20dc-trump1/20dc-trump1-thumbStandard.jpg', 'format': 'Standard Thumbnail', 'height': 75, 'width': 75, 'type': 'image', 'subtype': 'photo', 'caption': 'President Trump at the White House on Friday. He met with Senator Chuck Schumer in a private, one-on-one negotiating session.', 'copyright': 'Al Drago for The New York Times'}, {'url': 'https://static01.nyt.com/images/2018/01/20/us/politics/20dc-trump1/20dc-trump1-thumbLarge.jpg', 'format': 'thumbLarge', 'height': 150, 'width': 150, 'type': 'image', 'subtype': 'photo', 'caption': 'President Trump at the White House on Friday. He met with Senator Chuck Schumer in a private, one-on-one negotiating session.', 'copyright': 'Al Drago for The New York Times'}, {'url': 'https://static01.nyt.com/images/2018/01/20/us/politics/20dc-trump1/20dc-trump1-articleInline.jpg', 'format': 'Normal', 'height': 127, 'width': 190, 'type': 'image', 'subtype': 'photo', 'caption': 'President Trump at the White House on Friday. He met with Senator Chuck Schumer in a private, one-on-one negotiating session.', 'copyright': 'Al Drago for The New York Times'}, {'url': 'https://static01.nyt.com/images/2018/01/20/us/politics/20dc-trump1/20dc-trump1-mediumThreeByTwo210.jpg', 'format': 'mediumThreeByTwo210', 'height': 140, 'width': 210, 'type': 'image', 'subtype': 'photo', 'caption': 'President Trump at the White House on Friday. He met with Senator Chuck Schumer in a private, one-on-one negotiating session.', 'copyright': 'Al Drago for The New York Times'}, {'url': 'https://static01.nyt.com/images/2018/01/20/us/politics/20dc-trump1/20dc-trump1-superJumbo.jpg', 'format': 'superJumbo', 'height': 1365, 'width': 2048, 'type': 'image', 'subtype': 'photo', 'caption': 'President Trump at the White House on Friday. He met with Senator Chuck Schumer in a private, one-on-one negotiating session.', 'copyright': 'Al Drago for The New York Times'}], 'short_url': 'https://nyti.ms/2DlQ0K7'}, {'section': 'U.S.', 'subsection': 'Politics', 'title': 'Trump Tells Anti-Abortion Marchers ‘We Are With You All the Way’ and Shows It', 'abstract': 'For someone who once described himself as “very pro-choice,” Mr. Trump’s transformation into a champion of the anti-abortion cause is a remarkable political evolution.', 'url': 'https://www.nytimes.com/2018/01/19/us/politics/trump-anti-abortion-marchers.html', 'byline': 'By JEREMY W. PETERS', 'item_type': 'Article', 'updated_date': '2018-01-19T20:27:51-05:00', 'created_date': '2018-01-19T20:27:51-05:00', 'published_date': '2018-01-19T20:27:51-05:00', 'material_type_facet': '', 'kicker': '', 'des_facet': ['United States Politics and Government', 'Abortion', 'Executive Orders and Memorandums', 'National Mall (Washington, DC)', 'Conservatism (US Politics)'], 'org_facet': ['Health and Human Services Department', 'March for Life', 'Planned Parenthood Federation of America', 'Susan B Anthony List'], 'per_facet': ['Dannenfelser, Marjorie', 'Trump, Donald J'], 'geo_facet': [], 'multimedia': [{'url': 'https://static01.nyt.com/images/2018/01/20/us/politics/20dc-March-1/merlin_132527975_a6ff8726-5337-4e14-9829-ce362bd5ce53-thumbStandard.jpg', 'format': 'Standard Thumbnail', 'height': 75, 'width': 75, 'type': 'image', 'subtype': 'photo', 'caption': 'President Trump spoke Friday at a live broadcast from the Rose Garden during the annual March for Life rally on the National Mall.', 'copyright': 'Al Drago for The New York Times'}, {'url': 'https://static01.nyt.com/images/2018/01/20/us/politics/20dc-March-1/merlin_132527975_a6ff8726-5337-4e14-9829-ce362bd5ce53-thumbLarge.jpg', 'format': 'thumbLarge', 'height': 150, 'width': 150, 'type': 'image', 'subtype': 'photo', 'caption': 'President Trump spoke Friday at a live broadcast from the Rose Garden during the annual March for Life rally on the National Mall.', 'copyright': 'Al Drago for The New York Times'}, {'url': 'https://static01.nyt.com/images/2018/01/20/us/politics/20dc-March-1/merlin_132527975_a6ff8726-5337-4e14-9829-ce362bd5ce53-articleInline.jpg', 'format': 'Normal', 'height': 127, 'width': 190, 'type': 'image', 'subtype': 'photo', 'caption': 'President Trump spoke Friday at a live broadcast from the Rose Garden during the annual March for Life rally on the National Mall.', 'copyright': 'Al Drago for The New York Times'}, {'url': 'https://static01.nyt.com/images/2018/01/20/us/politics/20dc-March-1/merlin_132527975_a6ff8726-5337-4e14-9829-ce362bd5ce53-mediumThreeByTwo210.jpg', 'format': 'mediumThreeByTwo210', 'height': 140, 'width': 210, 'type': 'image', 'subtype': 'photo', 'caption': 'President Trump spoke Friday at a live broadcast from the Rose Garden during the annual March for Life rally on the National Mall.', 'copyright': 'Al Drago for The New York Times'}, {'url': 'https://static01.nyt.com/images/2018/01/20/us/politics/20dc-March-1/merlin_132527975_a6ff8726-5337-4e14-9829-ce362bd5ce53-superJumbo.jpg', 'format': 'superJumbo', 'height': 1365, 'width': 2048, 'type': 'image', 'subtype': 'photo', 'caption': 'President Trump spoke Friday at a live broadcast from the Rose Garden during the annual March for Life rally on the National Mall.', 'copyright': 'Al Drago for The New York Times'}], 'short_url': 'https://nyti.ms/2FZ4t0f'}]}\n"
     ]
    }
   ],
   "source": [
    "def data_fetch(a):\n",
    "    try:\n",
    "        r = requests.get(url, timeout=100)\n",
    "        \n",
    "        if r.status_code != 200:\n",
    "            r = 'N/A'\n",
    "            return r\n",
    "        else:\n",
    "            obj = r.json()\n",
    "            return obj\n",
    "        \n",
    "    except requests.exceptions.RequestException as error:\n",
    "        print(error)\n",
    "        sys.exit(1)\n",
    "\n",
    "main_obj = data_fetch(url)\n",
    "print(main_obj)"
   ]
  },
  {
   "cell_type": "markdown",
   "metadata": {},
   "source": [
    "Now that we have our JSON loaded, let's take a moment to understand the code above. For line 3, the get request is slightly different from what we have come across. The [timeout](http://docs.python-requests.org/en/master/user/quickstart/#timeouts) argument is used to instruct Requests on how long to wait on a response. For the example, 100 seconds has been designated but this can be smaller or bigger. This 100 second is not a limitation on how long the script has to load our needed data. Instead, this is an instruction to raise exception errors if 100 seconds elapsed but no byte of data has been received. \n",
    "\n",
    "We also have included a check to ensure the correct status_code in our request is getting returned. Different [status code](https://developer.mozilla.org/en-US/docs/Web/HTTP/Status) indicates different responses the server sends when a client requests data using [Hyper Transfer Text Protocol](https://developer.mozilla.org/en-US/docs/Web/HTTP). Since a 200 status code indicates that the request has been successful, we are checking for any event where the response comes back without the request being successful. \n",
    "\n",
    "Line 12 focuses on any ambiguous error that could have occured. Instead of having a statement for base class exception errors, this statement can be modified to specifically look for ConnectionErrors. In order to write more robust code with better error handling in the future, take a look at the [Exceptions doc](http://docs.python-requests.org/en/master/api/#exceptions). \n",
    "\n",
    "Line 14 uses sys.exit() from Python's [sys](https://docs.python.org/3/library/sys.html) module. This module works with system specific parameters and functions. Calling sys.exit() allows us to exit from Python if the error occurs. Passing an argument is optional but I have chosen to pass 1 as an argument. By default, 0 is seen as normal termination and any other integer is regarded as [\"abnormal termination\"](https://docs.python.org/3/library/sys.html#sys.exit). \n",
    "\n",
    "## 3. Parsing Nested JSON\n",
    "\n",
    "A JSON object is contained within {}. Inside the JSON object, there is always a string key paired with a value that can be a string, number, another object, array, boolean, or null. A nested JSON object is when a key of a JSON contains another JSON object as its value. It is practical to understand the construction of large JSON objects by targeting the value of a key within a nested JSON object. For the purposes of this tutorial, we are going to look for the titles of all our articles under the Politics category in Top Stories the API has returned. \n",
    "\n",
    "First, let's examine the keys that appear in the JSON object. "
   ]
  },
  {
   "cell_type": "code",
   "execution_count": 15,
   "metadata": {},
   "outputs": [
    {
     "name": "stdout",
     "output_type": "stream",
     "text": [
      "                                             Abstract  \\\n",
      "0   With the government shut down and the two part...   \n",
      "1   The vast machinery of the federal government b...   \n",
      "2   Immigration policy, the issue that propelled P...   \n",
      "3   Carl Higbie stepped down from the Corporation ...   \n",
      "4   Representative Patrick Meehan, Republican of P...   \n",
      "5   The early days of the federal government shutd...   \n",
      "6   Representative Patrick Meehan, a Republican me...   \n",
      "7   How Dana Loesch, a onetime Democrat, became a ...   \n",
      "8   This week, only the tours went according to plan.   \n",
      "9   Rene A. Boucher of Bowling Green, Ky., is expe...   \n",
      "10  The deal fell apart later in the day when the ...   \n",
      "11  For someone who once described himself as “ver...   \n",
      "\n",
      "                                        Article Title  \\\n",
      "0   Bitter Bickering Muddies the Path to Ending th...   \n",
      "1   Open, Closed or Something in Between: What a S...   \n",
      "2   After Vowing to Fix Washington, Trump Is Mired...   \n",
      "3   Trump Appointee Resigns and Apologizes for Rac...   \n",
      "4   Patrick Meehan’s Response to The Times’s Artic...   \n",
      "5   The Longer It Lasts, the More a Shutdown Could...   \n",
      "6   Congressman Combating Harassment Settled His O...   \n",
      "7   The National Rifle Association’s Telegenic War...   \n",
      "8        Approaching Shutdown:Scenes From the Capital   \n",
      "9   Neighbor to Plead Guilty to Federal Charge in ...   \n",
      "10  How Trump and Schumer Came Close to a Deal Ove...   \n",
      "11  Trump Tells Anti-Abortion Marchers ‘We Are Wit...   \n",
      "\n",
      "               Published Date  \n",
      "0   2018-01-20T11:07:56-05:00  \n",
      "1   2018-01-20T15:04:41-05:00  \n",
      "2   2018-01-20T07:48:23-05:00  \n",
      "3   2018-01-20T17:09:16-05:00  \n",
      "4   2018-01-20T16:01:04-05:00  \n",
      "5   2018-01-20T15:50:31-05:00  \n",
      "6   2018-01-20T13:47:44-05:00  \n",
      "7   2018-01-20T06:00:34-05:00  \n",
      "8   2018-01-20T01:55:43-05:00  \n",
      "9   2018-01-19T20:39:08-05:00  \n",
      "10  2018-01-19T20:29:52-05:00  \n",
      "11  2018-01-19T20:27:51-05:00  \n",
      "                                             Abstract  \\\n",
      "0   With the government shut down and the two part...   \n",
      "1   The vast machinery of the federal government b...   \n",
      "2   Immigration policy, the issue that propelled P...   \n",
      "3   Carl Higbie stepped down from the Corporation ...   \n",
      "4   Representative Patrick Meehan, Republican of P...   \n",
      "5   The early days of the federal government shutd...   \n",
      "6   Representative Patrick Meehan, a Republican me...   \n",
      "7   How Dana Loesch, a onetime Democrat, became a ...   \n",
      "8   This week, only the tours went according to plan.   \n",
      "9   Rene A. Boucher of Bowling Green, Ky., is expe...   \n",
      "10  The deal fell apart later in the day when the ...   \n",
      "11  For someone who once described himself as “ver...   \n",
      "\n",
      "                                        Article Title  \\\n",
      "0   Bitter Bickering Muddies the Path to Ending th...   \n",
      "1   Open, Closed or Something in Between: What a S...   \n",
      "2   After Vowing to Fix Washington, Trump Is Mired...   \n",
      "3   Trump Appointee Resigns and Apologizes for Rac...   \n",
      "4   Patrick Meehan’s Response to The Times’s Artic...   \n",
      "5   The Longer It Lasts, the More a Shutdown Could...   \n",
      "6   Congressman Combating Harassment Settled His O...   \n",
      "7   The National Rifle Association’s Telegenic War...   \n",
      "8        Approaching Shutdown:Scenes From the Capital   \n",
      "9   Neighbor to Plead Guilty to Federal Charge in ...   \n",
      "10  How Trump and Schumer Came Close to a Deal Ove...   \n",
      "11  Trump Tells Anti-Abortion Marchers ‘We Are Wit...   \n",
      "\n",
      "               Published Date  \n",
      "0   2018-01-20T11:07:56-05:00  \n",
      "1   2018-01-20T15:04:41-05:00  \n",
      "2   2018-01-20T07:48:23-05:00  \n",
      "3   2018-01-20T17:09:16-05:00  \n",
      "4   2018-01-20T16:01:04-05:00  \n",
      "5   2018-01-20T15:50:31-05:00  \n",
      "6   2018-01-20T13:47:44-05:00  \n",
      "7   2018-01-20T06:00:34-05:00  \n",
      "8   2018-01-20T01:55:43-05:00  \n",
      "9   2018-01-19T20:39:08-05:00  \n",
      "10  2018-01-19T20:29:52-05:00  \n",
      "11  2018-01-19T20:27:51-05:00  \n"
     ]
    }
   ],
   "source": [
    "def parse_json(obj):\n",
    "    data = obj.get('results')\n",
    "\n",
    "    #Accessing the Title, published_date, and abstracts of each article\n",
    "    title = []\n",
    "    date = []\n",
    "    ab = []\n",
    "    c = 0\n",
    "    \n",
    "    for i in range(len(data)):\n",
    "        \n",
    "        val = data[c].get('title')\n",
    "        title.append(val)\n",
    "        \n",
    "        dt = data[c].get('published_date')\n",
    "        date.append(dt)\n",
    "    \n",
    "        a = data[c].get('abstract')\n",
    "        ab.append(a)\n",
    "        \n",
    "        c += 1\n",
    "        \n",
    "    #creating a pandas data frame\n",
    "    df = pd.DataFrame({'Published Date': date, 'Article Title': title, 'Abstract': ab})\n",
    "    print(df)\n",
    "    return df\n",
    "        \n",
    "print(parse_json(main_obj))\n"
   ]
  },
  {
   "cell_type": "markdown",
   "metadata": {
    "collapsed": true
   },
   "source": [
    "In this step, we have sifted through a nested JSON object, extracted the specific elements needed, and reformatted the required information into a Pandas Data Frame. Pandas Dataframes are crucial for working with data sets in Python. The data from this format can now be used for further textual analysis and data visualization. \n",
    "\n",
    "## 4. Visualization\n",
    "\n",
    "The purposes of data visualization is usually based on a case by case basis. The purposes of good data visualization is to easily communicate your findings to someone else. Visualization of data needs to be functional, clean, and easy to read. Graphs and charts should follow good design principles that convey the purpose of your project to a new audience. Data visualization is a fast growing and vast field. For the purposes of this tutorial, we can use the nouns from the article title or abstract stored in the Panda's dataframe above and create a noun co-occurrence network. "
   ]
  },
  {
   "cell_type": "code",
   "execution_count": 16,
   "metadata": {
    "collapsed": true
   },
   "outputs": [],
   "source": [
    "# do noun chunks and then use networkx for graph\n"
   ]
  }
 ],
 "metadata": {
  "kernelspec": {
   "display_name": "Python 3",
   "language": "python",
   "name": "python3"
  },
  "language_info": {
   "codemirror_mode": {
    "name": "ipython",
    "version": 3
   },
   "file_extension": ".py",
   "mimetype": "text/x-python",
   "name": "python",
   "nbconvert_exporter": "python",
   "pygments_lexer": "ipython3",
   "version": "3.6.3"
  }
 },
 "nbformat": 4,
 "nbformat_minor": 2
}
