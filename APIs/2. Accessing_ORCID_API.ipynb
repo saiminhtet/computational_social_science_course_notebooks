{
 "cells": [
  {
   "cell_type": "markdown",
   "metadata": {},
   "source": [
    "## Orcid API\n",
    "\n",
    "Have three different types of APIs available for use. For the purposes of this tutorial, the Public API will be used. Both the Member API and the Public API for Orcid uses two-legged authorization. \n",
    "\n",
    "Two-legged authorization: A call is sent to Orcid API containing credential information and the API returns a token. The access token returned has a 20 year life span and can be used to perform searches and accessing other Orcid records. "
   ]
  },
  {
   "cell_type": "code",
   "execution_count": null,
   "metadata": {
    "collapsed": true
   },
   "outputs": [],
   "source": [
    "#run the following on you CLI\n",
    "curl -i -L -H \"Accept: application/json\" -d \"client_id=APP-NPXKK6HFN6TJ4YYI\" -d \"client_secret=060c36f2-cce2-4f74-bde0-a17d8bb30a97\" -d \"scope=/read-public\" -d \"grant_type=client_credentials\" \"https://sandbox.orcid.org/oauth/token\" >> toxen.txt"
   ]
  },
  {
   "cell_type": "markdown",
   "metadata": {},
   "source": [
    "In a Unix based system, the curl request above can be easily performed. If you are using windows, [installing](https://superuser.com/questions/134685/run-curl-commands-from-windows-console)curl maybe useful for future projects. \n",
    "\n",
    "This should result in a file containing a JSON object holding access tokens. The result I received is the following:"
   ]
  },
  {
   "cell_type": "code",
   "execution_count": null,
   "metadata": {
    "collapsed": true
   },
   "outputs": [],
   "source": [
    "HTTP/1.1 200 OK\n",
    "Date: Sun, 14 Jan 2018 20:19:33 GMT\n",
    "Content-Type: application/json;charset=UTF-8\n",
    "Transfer-Encoding: chunked\n",
    "Connection: keep-alive\n",
    "Set-Cookie: __cfduid=df6e73b8a367baa24602ca455f996426e1515961173; expires=Mon, 14-Jan-19 20:19:33 GMT; path=/; domain=.orcid.org; HttpOnly\n",
    "Cache-Control: no-cache, no-store, max-age=0, must-revalidate\n",
    "Pragma: no-cache\n",
    "Expires: 0\n",
    "X-XSS-Protection: 1; mode=block\n",
    "X-Frame-Options: DENY\n",
    "X-Content-Type-Options: nosniff\n",
    "Server: cloudflare\n",
    "CF-RAY: 3dd34a76de2c27e0-YYZ\n",
    "\n",
    "{\"access_token\":\"79bd2af3-8079-454e-9807-031545a9acac\",\"token_type\":\"bearer\",\"refresh_token\":\"03eb52fd-2fe3-4278-bd44-77a65b652cc9\",\"expires_in\":631138518,\"scope\":\"/read-public\",\"orcid\":null}"
   ]
  },
  {
   "cell_type": "markdown",
   "metadata": {},
   "source": [
    "### Searching by institution\n",
    "\n",
    "When using the Public API, two source URLs ([Sandbox](https://pub.sandbox.orcid.org) vs. [Production](https://pub.orcid.org)) are available. This part of the tutorial will use the Production URL and perform a GET request which is expected to return an data in an XML format. \n",
    "\n",
    "The API is under constant development. As a result, the base url for API is followed by the version extension. "
   ]
  },
  {
   "cell_type": "code",
   "execution_count": 25,
   "metadata": {},
   "outputs": [
    {
     "name": "stdout",
     "output_type": "stream",
     "text": [
      "https://pub.orcid.org/v2.1/search/?q=University+of+Waterloo/orcid-bio/\n"
     ]
    },
    {
     "data": {
      "text/plain": [
       "'<?xml version=\"1.0\" encoding=\"UTF-8\" standalone=\"yes\"?>\\n<search:search num-found=\"1858742\" xmlns:search=\"http://www.orcid.org/ns/search\" xmlns:common=\"http://www.orcid.org/ns/common\">\\n    <search:result>\\n        <common:orcid-identifier>\\n            <common:uri>https://orcid.org/0000-0002-6405-6172</common:uri>\\n            <common:path>0000-0002-6405-6172</common:path>\\n            <common:host>orcid.org</common:host>\\n        </common:orcid-identifier>\\n    </search:result>\\n    <search:result>\\n        <common:orcid-identifier>\\n            <common:uri>https://orcid.org/0000-0003-1102-1520</common:uri>\\n            <common:path>0000-0003-1102-1520</common:path>\\n            <common:host>orcid.org</common:host>\\n        </common:orcid-identifier>\\n    </search:result>\\n    <search:result>\\n        <common:orcid-identifier>\\n            <common:uri>https://orcid.org/0000-0002-5465-446X</common:uri>\\n            <common:path>0000-0002-5465-446X</common:path>\\n            <common:host>orcid.org</common:host>\\n        </common:orcid-identifier>\\n    </search:result>\\n    <search:result>\\n        <common:orcid-identifier>\\n            <common:uri>https://orcid.org/0000-0002-7442-3749</common:uri>\\n            <common:path>0000-0002-7442-3749</common:path>\\n            <common:host>orcid.org</common:host>\\n        </common:orcid-identifier>\\n    </search:result>\\n    <search:result>\\n        <common:orcid-identifier>\\n            <common:uri>https://orcid.org/0000-0002-6898-3707</common:uri>\\n            <common:path>0000-0002-6898-3707</common:path>\\n            <common:host>orcid.org</common:host>\\n        </common:orcid-identifier>\\n    </search:result>\\n    <search:result>\\n        <common:orcid-identifier>\\n            <common:uri>https://orcid.org/0000-0002-3807-6997</common:uri>\\n            <common:path>0000-0002-3807-6997</common:path>\\n            <common:host>orcid.org</common:host>\\n        </common:orcid-identifier>\\n    </search:result>\\n    <search:result>\\n        <common:orcid-identifier>\\n            <common:uri>https://orcid.org/0000-0002-0083-9709</common:uri>\\n            <common:path>0000-0002-0083-9709</common:path>\\n            <common:host>orcid.org</common:host>\\n        </common:orcid-identifier>\\n    </search:result>\\n    <search:result>\\n        <common:orcid-identifier>\\n            <common:uri>https://orcid.org/0000-0001-5465-098X</common:uri>\\n            <common:path>0000-0001-5465-098X</common:path>\\n            <common:host>orcid.org</common:host>\\n        </common:orcid-identifier>\\n    </search:result>\\n    <search:result>\\n        <common:orcid-identifier>\\n            <common:uri>https://orcid.org/0000-0002-8452-8384</common:uri>\\n            <common:path>0000-0002-8452-8384</common:path>\\n            <common:host>orcid.org</common:host>\\n        </common:orcid-identifier>\\n    </search:result>\\n    <search:result>\\n        <common:orcid-identifier>\\n            <common:uri>https://orcid.org/0000-0001-5587-976X</common:uri>\\n            <common:path>0000-0001-5587-976X</common:path>\\n            <common:host>orcid.org</common:host>\\n        </common:orcid-identifier>\\n    </search:result>\\n    <search:result>\\n        <common:orcid-identifier>\\n            <common:uri>https://orcid.org/0000-0002-2162-458X</common:uri>\\n            <common:path>0000-0002-2162-458X</common:path>\\n            <common:host>orcid.org</common:host>\\n        </common:orcid-identifier>\\n    </search:result>\\n    <search:result>\\n        <common:orcid-identifier>\\n            <common:uri>https://orcid.org/0000-0002-1241-9584</common:uri>\\n            <common:path>0000-0002-1241-9584</common:path>\\n            <common:host>orcid.org</common:host>\\n        </common:orcid-identifier>\\n    </search:result>\\n    <search:result>\\n        <common:orcid-identifier>\\n            <common:uri>https://orcid.org/0000-0001-5034-7385</common:uri>\\n            <common:path>0000-0001-5034-7385</common:path>\\n            <common:host>orcid.org</common:host>\\n        </common:orcid-identifier>\\n    </search:result>\\n    <search:result>\\n        <common:orcid-identifier>\\n            <common:uri>https://orcid.org/0000-0002-1158-2865</common:uri>\\n            <common:path>0000-0002-1158-2865</common:path>\\n            <common:host>orcid.org</common:host>\\n        </common:orcid-identifier>\\n    </search:result>\\n    <search:result>\\n        <common:orcid-identifier>\\n            <common:uri>https://orcid.org/0000-0003-2321-8785</common:uri>\\n            <common:path>0000-0003-2321-8785</common:path>\\n            <common:host>orcid.org</common:host>\\n        </common:orcid-identifier>\\n    </search:result>\\n    <search:result>\\n        <common:orcid-identifier>\\n            <common:uri>https://orcid.org/0000-0003-3316-1794</common:uri>\\n            <common:path>0000-0003-3316-1794</common:path>\\n            <common:host>orcid.org</common:host>\\n        </common:orcid-identifier>\\n    </search:result>\\n    <search:result>\\n        <common:orcid-identifier>\\n            <common:uri>https://orcid.org/0000-0001-5049-5580</common:uri>\\n            <common:path>0000-0001-5049-5580</common:path>\\n            <common:host>orcid.org</common:host>\\n        </common:orcid-identifier>\\n    </search:result>\\n    <search:result>\\n        <common:orcid-identifier>\\n            <common:uri>https://orcid.org/0000-0003-2117-5291</common:uri>\\n            <common:path>0000-0003-2117-5291</common:path>\\n            <common:host>orcid.org</common:host>\\n        </common:orcid-identifier>\\n    </search:result>\\n    <search:result>\\n        <common:orcid-identifier>\\n            <common:uri>https://orcid.org/0000-0002-0191-0685</common:uri>\\n            <common:path>0000-0002-0191-0685</common:path>\\n            <common:host>orcid.org</common:host>\\n        </common:orcid-identifier>\\n    </search:result>\\n    <search:result>\\n        <common:orcid-identifier>\\n            <common:uri>https://orcid.org/0000-0003-2637-5719</common:uri>\\n            <common:path>0000-0003-2637-5719</common:path>\\n            <common:host>orcid.org</common:host>\\n        </common:orcid-identifier>\\n    </search:result>\\n    <search:result>\\n        <common:orcid-identifier>\\n            <common:uri>https://orcid.org/0000-0001-5736-9405</common:uri>\\n            <common:path>0000-0001-5736-9405</common:path>\\n            <common:host>orcid.org</common:host>\\n        </common:orcid-identifier>\\n    </search:result>\\n    <search:result>\\n        <common:orcid-identifier>\\n            <common:uri>https://orcid.org/0000-0002-2034-5976</common:uri>\\n            <common:path>0000-0002-2034-5976</common:path>\\n            <common:host>orcid.org</common:host>\\n        </common:orcid-identifier>\\n    </search:result>\\n    <search:result>\\n        <common:orcid-identifier>\\n            <common:uri>https://orcid.org/0000-0001-7395-2051</common:uri>\\n            <common:path>0000-0001-7395-2051</common:path>\\n            <common:host>orcid.org</common:host>\\n        </common:orcid-identifier>\\n    </search:result>\\n    <search:result>\\n        <common:orcid-identifier>\\n            <common:uri>https://orcid.org/0000-0002-9202-7248</common:uri>\\n            <common:path>0000-0002-9202-7248</common:path>\\n            <common:host>orcid.org</common:host>\\n        </common:orcid-identifier>\\n    </search:result>\\n    <search:result>\\n        <common:orcid-identifier>\\n            <common:uri>https://orcid.org/0000-0003-3122-7948</common:uri>\\n            <common:path>0000-0003-3122-7948</common:path>\\n            <common:host>orcid.org</common:host>\\n        </common:orcid-identifier>\\n    </search:result>\\n    <search:result>\\n        <common:orcid-identifier>\\n            <common:uri>https://orcid.org/0000-0001-8041-6388</common:uri>\\n            <common:path>0000-0001-8041-6388</common:path>\\n            <common:host>orcid.org</common:host>\\n        </common:orcid-identifier>\\n    </search:result>\\n    <search:result>\\n        <common:orcid-identifier>\\n            <common:uri>https://orcid.org/0000-0002-5426-5421</common:uri>\\n            <common:path>0000-0002-5426-5421</common:path>\\n            <common:host>orcid.org</common:host>\\n        </common:orcid-identifier>\\n    </search:result>\\n    <search:result>\\n        <common:orcid-identifier>\\n            <common:uri>https://orcid.org/0000-0002-9466-1955</common:uri>\\n            <common:path>0000-0002-9466-1955</common:path>\\n            <common:host>orcid.org</common:host>\\n        </common:orcid-identifier>\\n    </search:result>\\n    <search:result>\\n        <common:orcid-identifier>\\n            <common:uri>https://orcid.org/0000-0002-1545-1125</common:uri>\\n            <common:path>0000-0002-1545-1125</common:path>\\n            <common:host>orcid.org</common:host>\\n        </common:orcid-identifier>\\n    </search:result>\\n    <search:result>\\n        <common:orcid-identifier>\\n            <common:uri>https://orcid.org/0000-0001-7556-5741</common:uri>\\n            <common:path>0000-0001-7556-5741</common:path>\\n            <common:host>orcid.org</common:host>\\n        </common:orcid-identifier>\\n    </search:result>\\n    <search:result>\\n        <common:orcid-identifier>\\n            <common:uri>https://orcid.org/0000-0002-6566-0961</common:uri>\\n            <common:path>0000-0002-6566-0961</common:path>\\n            <common:host>orcid.org</common:host>\\n        </common:orcid-identifier>\\n    </search:result>\\n    <search:result>\\n        <common:orcid-identifier>\\n            <common:uri>https://orcid.org/0000-0001-5951-0580</common:uri>\\n            <common:path>0000-0001-5951-0580</common:path>\\n            <common:host>orcid.org</common:host>\\n        </common:orcid-identifier>\\n    </search:result>\\n    <search:result>\\n        <common:orcid-identifier>\\n            <common:uri>https://orcid.org/0000-0003-4072-4268</common:uri>\\n            <common:path>0000-0003-4072-4268</common:path>\\n            <common:host>orcid.org</common:host>\\n        </common:orcid-identifier>\\n    </search:result>\\n    <search:result>\\n        <common:orcid-identifier>\\n            <common:uri>https://orcid.org/0000-0003-3361-2743</common:uri>\\n            <common:path>0000-0003-3361-2743</common:path>\\n            <common:host>orcid.org</common:host>\\n        </common:orcid-identifier>\\n    </search:result>\\n    <search:result>\\n        <common:orcid-identifier>\\n            <common:uri>https://orcid.org/0000-0001-6076-3745</common:uri>\\n            <common:path>0000-0001-6076-3745</common:path>\\n            <common:host>orcid.org</common:host>\\n        </common:orcid-identifier>\\n    </search:result>\\n    <search:result>\\n        <common:orcid-identifier>\\n            <common:uri>https://orcid.org/0000-0001-6006-2092</common:uri>\\n            <common:path>0000-0001-6006-2092</common:path>\\n            <common:host>orcid.org</common:host>\\n        </common:orcid-identifier>\\n    </search:result>\\n    <search:result>\\n        <common:orcid-identifier>\\n            <common:uri>https://orcid.org/0000-0002-4618-4832</common:uri>\\n            <common:path>0000-0002-4618-4832</common:path>\\n            <common:host>orcid.org</common:host>\\n        </common:orcid-identifier>\\n    </search:result>\\n    <search:result>\\n        <common:orcid-identifier>\\n            <common:uri>https://orcid.org/0000-0003-3568-4660</common:uri>\\n            <common:path>0000-0003-3568-4660</common:path>\\n            <common:host>orcid.org</common:host>\\n        </common:orcid-identifier>\\n    </search:result>\\n    <search:result>\\n        <common:orcid-identifier>\\n            <common:uri>https://orcid.org/0000-0003-1991-4075</common:uri>\\n            <common:path>0000-0003-1991-4075</common:path>\\n            <common:host>orcid.org</common:host>\\n        </common:orcid-identifier>\\n    </search:result>\\n    <search:result>\\n        <common:orcid-identifier>\\n            <common:uri>https://orcid.org/0000-0001-5113-3047</common:uri>\\n            <common:path>0000-0001-5113-3047</common:path>\\n            <common:host>orcid.org</common:host>\\n        </common:orcid-identifier>\\n    </search:result>\\n    <search:result>\\n        <common:orcid-identifier>\\n            <common:uri>https://orcid.org/0000-0002-4897-8951</common:uri>\\n            <common:path>0000-0002-4897-8951</common:path>\\n            <common:host>orcid.org</common:host>\\n        </common:orcid-identifier>\\n    </search:result>\\n    <search:result>\\n        <common:orcid-identifier>\\n            <common:uri>https://orcid.org/0000-0001-6002-3720</common:uri>\\n            <common:path>0000-0001-6002-3720</common:path>\\n            <common:host>orcid.org</common:host>\\n        </common:orcid-identifier>\\n    </search:result>\\n    <search:result>\\n        <common:orcid-identifier>\\n            <common:uri>https://orcid.org/0000-0003-4759-3272</common:uri>\\n            <common:path>0000-0003-4759-3272</common:path>\\n            <common:host>orcid.org</common:host>\\n        </common:orcid-identifier>\\n    </search:result>\\n    <search:result>\\n        <common:orcid-identifier>\\n            <common:uri>https://orcid.org/0000-0001-6223-4804</common:uri>\\n            <common:path>0000-0001-6223-4804</common:path>\\n            <common:host>orcid.org</common:host>\\n        </common:orcid-identifier>\\n    </search:result>\\n    <search:result>\\n        <common:orcid-identifier>\\n            <common:uri>https://orcid.org/0000-0001-9420-5434</common:uri>\\n            <common:path>0000-0001-9420-5434</common:path>\\n            <common:host>orcid.org</common:host>\\n        </common:orcid-identifier>\\n    </search:result>\\n    <search:result>\\n        <common:orcid-identifier>\\n            <common:uri>https://orcid.org/0000-0002-8719-501X</common:uri>\\n            <common:path>0000-0002-8719-501X</common:path>\\n            <common:host>orcid.org</common:host>\\n        </common:orcid-identifier>\\n    </search:result>\\n    <search:result>\\n        <common:orcid-identifier>\\n            <common:uri>https://orcid.org/0000-0002-4567-7766</common:uri>\\n            <common:path>0000-0002-4567-7766</common:path>\\n            <common:host>orcid.org</common:host>\\n        </common:orcid-identifier>\\n    </search:result>\\n    <search:result>\\n        <common:orcid-identifier>\\n            <common:uri>https://orcid.org/0000-0002-7195-0316</common:uri>\\n            <common:path>0000-0002-7195-0316</common:path>\\n            <common:host>orcid.org</common:host>\\n        </common:orcid-identifier>\\n    </search:result>\\n    <search:result>\\n        <common:orcid-identifier>\\n            <common:uri>https://orcid.org/0000-0002-1611-0023</common:uri>\\n            <common:path>0000-0002-1611-0023</common:path>\\n            <common:host>orcid.org</common:host>\\n        </common:orcid-identifier>\\n    </search:result>\\n    <search:result>\\n        <common:orcid-identifier>\\n            <common:uri>https://orcid.org/0000-0002-1649-0935</common:uri>\\n            <common:path>0000-0002-1649-0935</common:path>\\n            <common:host>orcid.org</common:host>\\n        </common:orcid-identifier>\\n    </search:result>\\n    <search:result>\\n        <common:orcid-identifier>\\n            <common:uri>https://orcid.org/0000-0002-9961-0452</common:uri>\\n            <common:path>0000-0002-9961-0452</common:path>\\n            <common:host>orcid.org</common:host>\\n        </common:orcid-identifier>\\n    </search:result>\\n    <search:result>\\n        <common:orcid-identifier>\\n            <common:uri>https://orcid.org/0000-0003-3112-3890</common:uri>\\n            <common:path>0000-0003-3112-3890</common:path>\\n            <common:host>orcid.org</common:host>\\n        </common:orcid-identifier>\\n    </search:result>\\n    <search:result>\\n        <common:orcid-identifier>\\n            <common:uri>https://orcid.org/0000-0002-6287-194X</common:uri>\\n            <common:path>0000-0002-6287-194X</common:path>\\n            <common:host>orcid.org</common:host>\\n        </common:orcid-identifier>\\n    </search:result>\\n    <search:result>\\n        <common:orcid-identifier>\\n            <common:uri>https://orcid.org/0000-0003-1626-2067</common:uri>\\n            <common:path>0000-0003-1626-2067</common:path>\\n            <common:host>orcid.org</common:host>\\n        </common:orcid-identifier>\\n    </search:result>\\n    <search:result>\\n        <common:orcid-identifier>\\n            <common:uri>https://orcid.org/0000-0002-4263-9393</common:uri>\\n            <common:path>0000-0002-4263-9393</common:path>\\n            <common:host>orcid.org</common:host>\\n        </common:orcid-identifier>\\n    </search:result>\\n    <search:result>\\n        <common:orcid-identifier>\\n            <common:uri>https://orcid.org/0000-0003-4362-8722</common:uri>\\n            <common:path>0000-0003-4362-8722</common:path>\\n            <common:host>orcid.org</common:host>\\n        </common:orcid-identifier>\\n    </search:result>\\n    <search:result>\\n        <common:orcid-identifier>\\n            <common:uri>https://orcid.org/0000-0002-2249-2486</common:uri>\\n            <common:path>0000-0002-2249-2486</common:path>\\n            <common:host>orcid.org</common:host>\\n        </common:orcid-identifier>\\n    </search:result>\\n    <search:result>\\n        <common:orcid-identifier>\\n            <common:uri>https://orcid.org/0000-0002-5176-8955</common:uri>\\n            <common:path>0000-0002-5176-8955</common:path>\\n            <common:host>orcid.org</common:host>\\n        </common:orcid-identifier>\\n    </search:result>\\n    <search:result>\\n        <common:orcid-identifier>\\n            <common:uri>https://orcid.org/0000-0002-2180-5671</common:uri>\\n            <common:path>0000-0002-2180-5671</common:path>\\n            <common:host>orcid.org</common:host>\\n        </common:orcid-identifier>\\n    </search:result>\\n    <search:result>\\n        <common:orcid-identifier>\\n            <common:uri>https://orcid.org/0000-0003-2459-0992</common:uri>\\n            <common:path>0000-0003-2459-0992</common:path>\\n            <common:host>orcid.org</common:host>\\n        </common:orcid-identifier>\\n    </search:result>\\n    <search:result>\\n        <common:orcid-identifier>\\n            <common:uri>https://orcid.org/0000-0002-0464-8790</common:uri>\\n            <common:path>0000-0002-0464-8790</common:path>\\n            <common:host>orcid.org</common:host>\\n        </common:orcid-identifier>\\n    </search:result>\\n    <search:result>\\n        <common:orcid-identifier>\\n            <common:uri>https://orcid.org/0000-0001-9130-1228</common:uri>\\n            <common:path>0000-0001-9130-1228</common:path>\\n            <common:host>orcid.org</common:host>\\n        </common:orcid-identifier>\\n    </search:result>\\n    <search:result>\\n        <common:orcid-identifier>\\n            <common:uri>https://orcid.org/0000-0002-3934-1158</common:uri>\\n            <common:path>0000-0002-3934-1158</common:path>\\n            <common:host>orcid.org</common:host>\\n        </common:orcid-identifier>\\n    </search:result>\\n    <search:result>\\n        <common:orcid-identifier>\\n            <common:uri>https://orcid.org/0000-0003-3020-6061</common:uri>\\n            <common:path>0000-0003-3020-6061</common:path>\\n            <common:host>orcid.org</common:host>\\n        </common:orcid-identifier>\\n    </search:result>\\n    <search:result>\\n        <common:orcid-identifier>\\n            <common:uri>https://orcid.org/0000-0003-1115-0074</common:uri>\\n            <common:path>0000-0003-1115-0074</common:path>\\n            <common:host>orcid.org</common:host>\\n        </common:orcid-identifier>\\n    </search:result>\\n    <search:result>\\n        <common:orcid-identifier>\\n            <common:uri>https://orcid.org/0000-0002-7529-6155</common:uri>\\n            <common:path>0000-0002-7529-6155</common:path>\\n            <common:host>orcid.org</common:host>\\n        </common:orcid-identifier>\\n    </search:result>\\n    <search:result>\\n        <common:orcid-identifier>\\n            <common:uri>https://orcid.org/0000-0002-7895-0271</common:uri>\\n            <common:path>0000-0002-7895-0271</common:path>\\n            <common:host>orcid.org</common:host>\\n        </common:orcid-identifier>\\n    </search:result>\\n    <search:result>\\n        <common:orcid-identifier>\\n            <common:uri>https://orcid.org/0000-0002-7700-7476</common:uri>\\n            <common:path>0000-0002-7700-7476</common:path>\\n            <common:host>orcid.org</common:host>\\n        </common:orcid-identifier>\\n    </search:result>\\n    <search:result>\\n        <common:orcid-identifier>\\n            <common:uri>https://orcid.org/0000-0002-8241-5271</common:uri>\\n            <common:path>0000-0002-8241-5271</common:path>\\n            <common:host>orcid.org</common:host>\\n        </common:orcid-identifier>\\n    </search:result>\\n    <search:result>\\n        <common:orcid-identifier>\\n            <common:uri>https://orcid.org/0000-0003-4358-8070</common:uri>\\n            <common:path>0000-0003-4358-8070</common:path>\\n            <common:host>orcid.org</common:host>\\n        </common:orcid-identifier>\\n    </search:result>\\n    <search:result>\\n        <common:orcid-identifier>\\n            <common:uri>https://orcid.org/0000-0001-7280-1833</common:uri>\\n            <common:path>0000-0001-7280-1833</common:path>\\n            <common:host>orcid.org</common:host>\\n        </common:orcid-identifier>\\n    </search:result>\\n    <search:result>\\n        <common:orcid-identifier>\\n            <common:uri>https://orcid.org/0000-0003-2803-1055</common:uri>\\n            <common:path>0000-0003-2803-1055</common:path>\\n            <common:host>orcid.org</common:host>\\n        </common:orcid-identifier>\\n    </search:result>\\n    <search:result>\\n        <common:orcid-identifier>\\n            <common:uri>https://orcid.org/0000-0001-7670-300X</common:uri>\\n            <common:path>0000-0001-7670-300X</common:path>\\n            <common:host>orcid.org</common:host>\\n        </common:orcid-identifier>\\n    </search:result>\\n    <search:result>\\n        <common:orcid-identifier>\\n            <common:uri>https://orcid.org/0000-0002-2217-6766</common:uri>\\n            <common:path>0000-0002-2217-6766</common:path>\\n            <common:host>orcid.org</common:host>\\n        </common:orcid-identifier>\\n    </search:result>\\n    <search:result>\\n        <common:orcid-identifier>\\n            <common:uri>https://orcid.org/0000-0002-8915-5206</common:uri>\\n            <common:path>0000-0002-8915-5206</common:path>\\n            <common:host>orcid.org</common:host>\\n        </common:orcid-identifier>\\n    </search:result>\\n    <search:result>\\n        <common:orcid-identifier>\\n            <common:uri>https://orcid.org/0000-0003-1917-9146</common:uri>\\n            <common:path>0000-0003-1917-9146</common:path>\\n            <common:host>orcid.org</common:host>\\n        </common:orcid-identifier>\\n    </search:result>\\n    <search:result>\\n        <common:orcid-identifier>\\n            <common:uri>https://orcid.org/0000-0003-1544-4168</common:uri>\\n            <common:path>0000-0003-1544-4168</common:path>\\n            <common:host>orcid.org</common:host>\\n        </common:orcid-identifier>\\n    </search:result>\\n    <search:result>\\n        <common:orcid-identifier>\\n            <common:uri>https://orcid.org/0000-0001-6901-0053</common:uri>\\n            <common:path>0000-0001-6901-0053</common:path>\\n            <common:host>orcid.org</common:host>\\n        </common:orcid-identifier>\\n    </search:result>\\n    <search:result>\\n        <common:orcid-identifier>\\n            <common:uri>https://orcid.org/0000-0003-3958-6371</common:uri>\\n            <common:path>0000-0003-3958-6371</common:path>\\n            <common:host>orcid.org</common:host>\\n        </common:orcid-identifier>\\n    </search:result>\\n    <search:result>\\n        <common:orcid-identifier>\\n            <common:uri>https://orcid.org/0000-0002-0370-4949</common:uri>\\n            <common:path>0000-0002-0370-4949</common:path>\\n            <common:host>orcid.org</common:host>\\n        </common:orcid-identifier>\\n    </search:result>\\n    <search:result>\\n        <common:orcid-identifier>\\n            <common:uri>https://orcid.org/0000-0001-5273-635X</common:uri>\\n            <common:path>0000-0001-5273-635X</common:path>\\n            <common:host>orcid.org</common:host>\\n        </common:orcid-identifier>\\n    </search:result>\\n    <search:result>\\n        <common:orcid-identifier>\\n            <common:uri>https://orcid.org/0000-0002-6337-4419</common:uri>\\n            <common:path>0000-0002-6337-4419</common:path>\\n            <common:host>orcid.org</common:host>\\n        </common:orcid-identifier>\\n    </search:result>\\n    <search:result>\\n        <common:orcid-identifier>\\n            <common:uri>https://orcid.org/0000-0001-5032-4124</common:uri>\\n            <common:path>0000-0001-5032-4124</common:path>\\n            <common:host>orcid.org</common:host>\\n        </common:orcid-identifier>\\n    </search:result>\\n    <search:result>\\n        <common:orcid-identifier>\\n            <common:uri>https://orcid.org/0000-0002-4862-3341</common:uri>\\n            <common:path>0000-0002-4862-3341</common:path>\\n            <common:host>orcid.org</common:host>\\n        </common:orcid-identifier>\\n    </search:result>\\n    <search:result>\\n        <common:orcid-identifier>\\n            <common:uri>https://orcid.org/0000-0002-8800-3526</common:uri>\\n            <common:path>0000-0002-8800-3526</common:path>\\n            <common:host>orcid.org</common:host>\\n        </common:orcid-identifier>\\n    </search:result>\\n    <search:result>\\n        <common:orcid-identifier>\\n            <common:uri>https://orcid.org/0000-0003-4614-5873</common:uri>\\n            <common:path>0000-0003-4614-5873</common:path>\\n            <common:host>orcid.org</common:host>\\n        </common:orcid-identifier>\\n    </search:result>\\n    <search:result>\\n        <common:orcid-identifier>\\n            <common:uri>https://orcid.org/0000-0001-7536-8756</common:uri>\\n            <common:path>0000-0001-7536-8756</common:path>\\n            <common:host>orcid.org</common:host>\\n        </common:orcid-identifier>\\n    </search:result>\\n    <search:result>\\n        <common:orcid-identifier>\\n            <common:uri>https://orcid.org/0000-0002-2675-5116</common:uri>\\n            <common:path>0000-0002-2675-5116</common:path>\\n            <common:host>orcid.org</common:host>\\n        </common:orcid-identifier>\\n    </search:result>\\n    <search:result>\\n        <common:orcid-identifier>\\n            <common:uri>https://orcid.org/0000-0003-4674-1966</common:uri>\\n            <common:path>0000-0003-4674-1966</common:path>\\n            <common:host>orcid.org</common:host>\\n        </common:orcid-identifier>\\n    </search:result>\\n    <search:result>\\n        <common:orcid-identifier>\\n            <common:uri>https://orcid.org/0000-0003-1901-6945</common:uri>\\n            <common:path>0000-0003-1901-6945</common:path>\\n            <common:host>orcid.org</common:host>\\n        </common:orcid-identifier>\\n    </search:result>\\n    <search:result>\\n        <common:orcid-identifier>\\n            <common:uri>https://orcid.org/0000-0002-9807-0802</common:uri>\\n            <common:path>0000-0002-9807-0802</common:path>\\n            <common:host>orcid.org</common:host>\\n        </common:orcid-identifier>\\n    </search:result>\\n    <search:result>\\n        <common:orcid-identifier>\\n            <common:uri>https://orcid.org/0000-0003-1404-2212</common:uri>\\n            <common:path>0000-0003-1404-2212</common:path>\\n            <common:host>orcid.org</common:host>\\n        </common:orcid-identifier>\\n    </search:result>\\n    <search:result>\\n        <common:orcid-identifier>\\n            <common:uri>https://orcid.org/0000-0001-6046-2264</common:uri>\\n            <common:path>0000-0001-6046-2264</common:path>\\n            <common:host>orcid.org</common:host>\\n        </common:orcid-identifier>\\n    </search:result>\\n    <search:result>\\n        <common:orcid-identifier>\\n            <common:uri>https://orcid.org/0000-0002-5286-1369</common:uri>\\n            <common:path>0000-0002-5286-1369</common:path>\\n            <common:host>orcid.org</common:host>\\n        </common:orcid-identifier>\\n    </search:result>\\n    <search:result>\\n        <common:orcid-identifier>\\n            <common:uri>https://orcid.org/0000-0002-6098-5919</common:uri>\\n            <common:path>0000-0002-6098-5919</common:path>\\n            <common:host>orcid.org</common:host>\\n        </common:orcid-identifier>\\n    </search:result>\\n    <search:result>\\n        <common:orcid-identifier>\\n            <common:uri>https://orcid.org/0000-0001-7730-0552</common:uri>\\n            <common:path>0000-0001-7730-0552</common:path>\\n            <common:host>orcid.org</common:host>\\n        </common:orcid-identifier>\\n    </search:result>\\n    <search:result>\\n        <common:orcid-identifier>\\n            <common:uri>https://orcid.org/0000-0003-1634-2374</common:uri>\\n            <common:path>0000-0003-1634-2374</common:path>\\n            <common:host>orcid.org</common:host>\\n        </common:orcid-identifier>\\n    </search:result>\\n    <search:result>\\n        <common:orcid-identifier>\\n            <common:uri>https://orcid.org/0000-0002-1319-9579</common:uri>\\n            <common:path>0000-0002-1319-9579</common:path>\\n            <common:host>orcid.org</common:host>\\n        </common:orcid-identifier>\\n    </search:result>\\n    <search:result>\\n        <common:orcid-identifier>\\n            <common:uri>https://orcid.org/0000-0001-5958-1557</common:uri>\\n            <common:path>0000-0001-5958-1557</common:path>\\n            <common:host>orcid.org</common:host>\\n        </common:orcid-identifier>\\n    </search:result>\\n    <search:result>\\n        <common:orcid-identifier>\\n            <common:uri>https://orcid.org/0000-0002-9792-7501</common:uri>\\n            <common:path>0000-0002-9792-7501</common:path>\\n            <common:host>orcid.org</common:host>\\n        </common:orcid-identifier>\\n    </search:result>\\n</search:search>\\n'"
      ]
     },
     "execution_count": 25,
     "metadata": {},
     "output_type": "execute_result"
    }
   ],
   "source": [
    "head = {\"access_token\":\"79bd2af3-8079-454e-9807-031545a9acac\"}\n",
    "ins = 'University of Waterloo'\n",
    "url = 'https://pub.orcid.org/v2.1/search/?q=%s' % ins.replace(\" \",\"+\")\n",
    "r = requests.get(url, headers=head)\n",
    "r.text #shows the returned result in XML format"
   ]
  },
  {
   "cell_type": "markdown",
   "metadata": {},
   "source": [
    "The search method shown above can become quiet powerful as the url is concatenated with author names and other parameters such as Boolean values. The ability to also take a list of institutions, iterate through them, and generating a file containing Orcid data can also be useful. \n",
    "\n",
    "**You Try**\n",
    "Modify the code in the above URL to search by McLevy AND University of Waterloo. "
   ]
  },
  {
   "cell_type": "code",
   "execution_count": 33,
   "metadata": {},
   "outputs": [
    {
     "data": {
      "text/plain": [
       "'<?xml version=\"1.0\" encoding=\"UTF-8\" standalone=\"yes\"?>\\n<search:search num-found=\"1\" xmlns:search=\"http://www.orcid.org/ns/search\" xmlns:common=\"http://www.orcid.org/ns/common\">\\n    <search:result>\\n        <common:orcid-identifier>\\n            <common:uri>https://orcid.org/0000-0002-8512-1308</common:uri>\\n            <common:path>0000-0002-8512-1308</common:path>\\n            <common:host>orcid.org</common:host>\\n        </common:orcid-identifier>\\n    </search:result>\\n</search:search>\\n'"
      ]
     },
     "execution_count": 33,
     "metadata": {},
     "output_type": "execute_result"
    }
   ],
   "source": [
    "#Below is a sample code - does your data match with this?\n",
    "head = {\"access_token\":\"79bd2af3-8079-454e-9807-031545a9acac\"}\n",
    "auth_name = 'McLevey'\n",
    "ins = 'University of Waterloo'\n",
    "url = 'https://pub.orcid.org/v2.1/search/?q=%s+AND+%s' % (auth_name, ins.replace(\" \",\"+\"))\n",
    "r = requests.get(url, headers=head) \n",
    "r.text"
   ]
  },
  {
   "cell_type": "markdown",
   "metadata": {},
   "source": [
    "The above record should show only one record for the given criteria. To match this record, you can always visit the [advanced search](https://orcid.org/orcid-search/search) feature on Orcid and validate. "
   ]
  },
  {
   "cell_type": "markdown",
   "metadata": {},
   "source": [
    "### Search by known ID\n",
    "\n",
    "If you know the ORCID of a researcher and would like to fetch the necessary information a similar approach to above can be taken. This trick can be more powerful if there is a list of known IDs and you would like iterate through the list for each individual and collect data as a JSON object. "
   ]
  },
  {
   "cell_type": "markdown",
   "metadata": {},
   "source": [
    "## Working with a Wrapper\n",
    "\n",
    "An API wrapper is a library that increases a user's accessibility to an exisiting third-party API. The ORCID-Python wrapper library is an example of that. A Python wrapper is expected to return data in formats that are friendly for further manipulation. Please note that according to [official](https://pypi.python.org/pypi/orcid/) doc, this wrapper library has been perfected for the sandbox. Take caution about using this in future projects (specailly in a production environment). "
   ]
  },
  {
   "cell_type": "code",
   "execution_count": 12,
   "metadata": {},
   "outputs": [
    {
     "name": "stdout",
     "output_type": "stream",
     "text": [
      "<orcid.orcid.SearchAPI object at 0x7f44493a3208>\n"
     ]
    }
   ],
   "source": [
    "import orcid\n",
    "cn = orcid.SearchAPI(\"0000-0002-0068-716X\")\n"
   ]
  },
  {
   "cell_type": "code",
   "execution_count": null,
   "metadata": {
    "collapsed": true
   },
   "outputs": [],
   "source": []
  }
 ],
 "metadata": {
  "kernelspec": {
   "display_name": "Python 3",
   "language": "python",
   "name": "python3"
  },
  "language_info": {
   "codemirror_mode": {
    "name": "ipython",
    "version": 3
   },
   "file_extension": ".py",
   "mimetype": "text/x-python",
   "name": "python",
   "nbconvert_exporter": "python",
   "pygments_lexer": "ipython3",
   "version": "3.6.3"
  }
 },
 "nbformat": 4,
 "nbformat_minor": 2
}
