{
 "cells": [
  {
   "cell_type": "markdown",
   "metadata": {},
   "source": [
    "## Orcid API\n",
    "\n",
    "Have three different types of APIs available for use. For the purposes of this tutorial, the Public API will be used. Both the Member API and the Public API for Orcid uses two-legged authorization. \n",
    "\n",
    "Two-legged authorization: A call is sent to Orcid API containing credential information and the API returns a token. The access token returned has a 20 year life span and can be used to perform searches and read Orcid records. "
   ]
  },
  {
   "cell_type": "code",
   "execution_count": null,
   "metadata": {
    "collapsed": true
   },
   "outputs": [],
   "source": [
    "#run the following on you CLI\n",
    "curl -i -L -H \"Accept: application/json\" -d \"client_id=APP-NPXKK6HFN6TJ4YYI\" -d \"client_secret=060c36f2-cce2-4f74-bde0-a17d8bb30a97\" -d \"scope=/read-public\" -d \"grant_type=client_credentials\" \"https://sandbox.orcid.org/oauth/token\" >> toxen.txt"
   ]
  },
  {
   "cell_type": "markdown",
   "metadata": {},
   "source": [
    "This should result in txt file containing a JSON object holding access tokens. The result I received is the following:"
   ]
  },
  {
   "cell_type": "code",
   "execution_count": null,
   "metadata": {
    "collapsed": true
   },
   "outputs": [],
   "source": [
    "HTTP/1.1 200 OK\n",
    "Date: Sun, 14 Jan 2018 20:19:33 GMT\n",
    "Content-Type: application/json;charset=UTF-8\n",
    "Transfer-Encoding: chunked\n",
    "Connection: keep-alive\n",
    "Set-Cookie: __cfduid=df6e73b8a367baa24602ca455f996426e1515961173; expires=Mon, 14-Jan-19 20:19:33 GMT; path=/; domain=.orcid.org; HttpOnly\n",
    "Cache-Control: no-cache, no-store, max-age=0, must-revalidate\n",
    "Pragma: no-cache\n",
    "Expires: 0\n",
    "X-XSS-Protection: 1; mode=block\n",
    "X-Frame-Options: DENY\n",
    "X-Content-Type-Options: nosniff\n",
    "Server: cloudflare\n",
    "CF-RAY: 3dd34a76de2c27e0-YYZ\n",
    "\n",
    "{\"access_token\":\"79bd2af3-8079-454e-9807-031545a9acac\",\"token_type\":\"bearer\",\"refresh_token\":\"03eb52fd-2fe3-4278-bd44-77a65b652cc9\",\"expires_in\":631138518,\"scope\":\"/read-public\",\"orcid\":null}"
   ]
  },
  {
   "cell_type": "markdown",
   "metadata": {},
   "source": [
    "## Working with a Wrapper\n",
    "\n",
    "An API wrapper is a library that increases a user's accessibility to an exisiting third-party API. The ORCID-Python wrapper library is an example of that. A Python wrapper is expected to return data in formats that are friendly for further manipulation. Please note that according to [official](https://pypi.python.org/pypi/orcid/) doc, this wrapper library has been perfected for the sandbox. Take caution about using this in future projects (specailly in a production environment). "
   ]
  },
  {
   "cell_type": "code",
   "execution_count": 12,
   "metadata": {},
   "outputs": [
    {
     "name": "stdout",
     "output_type": "stream",
     "text": [
      "<orcid.orcid.SearchAPI object at 0x7f44493a3208>\n"
     ]
    }
   ],
   "source": [
    "import orcid\n",
    "cn = orcid.SearchAPI(\"0000-0002-0068-716X\")\n"
   ]
  },
  {
   "cell_type": "code",
   "execution_count": null,
   "metadata": {
    "collapsed": true
   },
   "outputs": [],
   "source": []
  }
 ],
 "metadata": {
  "kernelspec": {
   "display_name": "Python 3",
   "language": "python",
   "name": "python3"
  },
  "language_info": {
   "codemirror_mode": {
    "name": "ipython",
    "version": 3
   },
   "file_extension": ".py",
   "mimetype": "text/x-python",
   "name": "python",
   "nbconvert_exporter": "python",
   "pygments_lexer": "ipython3",
   "version": "3.6.3"
  }
 },
 "nbformat": 4,
 "nbformat_minor": 2
}
