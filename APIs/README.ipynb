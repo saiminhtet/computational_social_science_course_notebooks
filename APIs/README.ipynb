{
 "cells": [
  {
   "cell_type": "markdown",
   "metadata": {},
   "source": [
    "# Understanding APIs\n",
    "\n",
    "These are a series of notebooks walking through tutorials explaining essential contents for working with APIs. \n",
    "\n",
    "1. [Intro](Intro-APIs.ipynb)\n",
    "2. [Twitter API Wrapper - Tweepy](Tweepy-Wrapper-Twitter-API.ipynb)\n",
    "3. [NY Times API](NYTimes-API.ipynb)\n",
    "4. [Orcid-API and Wrapper](Accessing-ORCID-API.ipynb)"
   ]
  }
 ],
 "metadata": {
  "kernelspec": {
   "display_name": "Python 3",
   "language": "python",
   "name": "python3"
  },
  "language_info": {
   "codemirror_mode": {
    "name": "ipython",
    "version": 3
   },
   "file_extension": ".py",
   "mimetype": "text/x-python",
   "name": "python",
   "nbconvert_exporter": "python",
   "pygments_lexer": "ipython3",
   "version": "3.6.3"
  }
 },
 "nbformat": 4,
 "nbformat_minor": 2
}
